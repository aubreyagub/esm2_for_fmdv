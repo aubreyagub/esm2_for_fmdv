{
 "cells": [
  {
   "cell_type": "code",
   "execution_count": 2,
   "id": "cf815cbd-e9ea-4711-84f1-e693626799bd",
   "metadata": {},
   "outputs": [],
   "source": [
    "# %pip install numpy\n",
    "# %pip install torch\n",
    "# %pip install tqdm\n",
    "# %pip install biopython"
   ]
  },
  {
   "cell_type": "code",
   "execution_count": 11,
   "id": "355b7071-893d-4aa9-8104-96aa18114464",
   "metadata": {},
   "outputs": [],
   "source": [
    "import os\n",
    "import unittest\n",
    "import tempfile\n",
    "import numpy as np\n",
    "import torch\n",
    "from tqdm import tqdm # for progress bar\n",
    "import Bio.PDB"
   ]
  },
  {
   "cell_type": "code",
   "execution_count": 31,
   "id": "c3486273-07e7-4217-99de-b5b0c7aeb608",
   "metadata": {},
   "outputs": [],
   "source": [
    "def process_fasta_files(folder_name):\n",
    "    data = []\n",
    "    lengths = []\n",
    "    for file in os.listdir(folder_name):\n",
    "        with open(os.path.join(folder_name, file), 'r') as fastaFile:\n",
    "            id = \"\"\n",
    "            seq = \"\"\n",
    "            name = \"\"\n",
    "            lines = fastaFile.readlines()\n",
    "            if not lines: # empty file\n",
    "                print(f\"Skipped {file} as it is empty\")\n",
    "                continue\n",
    "            for line in lines:\n",
    "                line = line.strip()\n",
    "                if line.startswith(\">\"):\n",
    "                    contents = line.split(\"|\")\n",
    "                    # std format is id|chains|name|optional:species\n",
    "                    try:\n",
    "                        id = contents[0][1:]\n",
    "                        name = contents[2]\n",
    "                    except IndexError:\n",
    "                        print(f\"Skipped {file} as it is missing required metadata\")\n",
    "                        continue\n",
    "                else:\n",
    "                    seq = line.upper()\n",
    "            if id!=\"\" and seq!=\"\" and name!=\"\":\n",
    "                protein = (id, seq, name)\n",
    "                data.append(protein)\n",
    "                lengths.append(len(seq))\n",
    "            else:\n",
    "                 print(f\"Skipped {file} as it is missing required data\")\n",
    "    return data,lengths"
   ]
  },
  {
   "cell_type": "code",
   "execution_count": 32,
   "id": "963bf2a7-ba38-4b88-a099-0cfe430f9517",
   "metadata": {},
   "outputs": [
    {
     "name": "stderr",
     "output_type": "stream",
     "text": [
      "...\n",
      "----------------------------------------------------------------------\n",
      "Ran 3 tests in 0.016s\n",
      "\n",
      "OK\n"
     ]
    },
    {
     "name": "stdout",
     "output_type": "stream",
     "text": [
      "Skipped empty.fasta as it is empty\n"
     ]
    },
    {
     "data": {
      "text/plain": [
       "<unittest.main.TestProgram at 0x12840323310>"
      ]
     },
     "execution_count": 32,
     "metadata": {},
     "output_type": "execute_result"
    }
   ],
   "source": [
    "class TestProcessFastaFiles(unittest.TestCase):\n",
    "    def setUp(self):\n",
    "        self.test_dir = tempfile.TemporaryDirectory()\n",
    "\n",
    "    def tearDown(self):\n",
    "        self.test_dir.cleanup()\n",
    "        \n",
    "    def make_test_file(self, filename, fasta):\n",
    "        file = os.path.join(self.test_dir.name, filename)\n",
    "        with open(file, 'w') as fastaFile:\n",
    "            fastaFile.write(fasta)\n",
    "        return file\n",
    "\n",
    "    def test_empty_file(self):\n",
    "        self.make_test_file(\"empty.fasta\", \"\")\n",
    "        data, lengths = process_fasta_files(self.test_dir.name)\n",
    "        # protein should not be created\n",
    "        self.assertEqual(len(data),0) \n",
    "        self.assertEqual(lengths,[])\n",
    "\n",
    "    def test_standard_file(self):\n",
    "        self.make_test_file(\"1ABC.fasta\", \">1ABC|Chain A|Protein A-B-C\\nABCDEFGHIJKLMNOPQRSTUVWXYZ\\n\")\n",
    "        data, lengths = process_fasta_files(self.test_dir.name)\n",
    "        self.assertEqual(len(data),1)\n",
    "        self.assertEqual(lengths,[26])\n",
    "        self.assertEqual(data[0][0],\"1ABC\") # id\n",
    "        self.assertEqual(data[0][1],\"ABCDEFGHIJKLMNOPQRSTUVWXYZ\") # sequence\n",
    "        self.assertEqual(data[0][2],\"Protein A-B-C\") # protein name\n",
    "        \n",
    "    def test_multiple_files(self):\n",
    "        self.make_test_file(\"1ABC.fasta\", \">1ABC|Chain A|Protein A-B-C\\nABCDEFGHIJKLMNOPQRSTUVWXYZ\\n\")\n",
    "        self.make_test_file(\"2DEF.fasta\", \">2DEF|Chains A, B, C, D|Protein D-E-F|Homo Sapiens (9606)\\nABCDEFGHIJKLMNOPQRSTUVWXYZABCDEFGHIJKLMNOPQRSTUVWXYZ\\n\")\n",
    "        self.make_test_file(\"3GHI.fasta\", \">3GHI|Chains A,B|Protein G-H-I\\nABCDEFGHIJKLMNOPQRSTUVWXYZ\\n\")\n",
    "        data, lengths = process_fasta_files(self.test_dir.name)\n",
    "        self.assertEqual(len(data),3)\n",
    "        self.assertEqual(lengths,[26,52,26])\n",
    "        self.assertEqual(data[0][0],\"1ABC\") # id\n",
    "        self.assertEqual(data[0][1],\"ABCDEFGHIJKLMNOPQRSTUVWXYZ\") # sequence\n",
    "        self.assertEqual(data[0][2],\"Protein A-B-C\") # protein name\n",
    "        self.assertEqual(data[1][0],\"2DEF\") # id\n",
    "        self.assertEqual(data[1][1],\"ABCDEFGHIJKLMNOPQRSTUVWXYZABCDEFGHIJKLMNOPQRSTUVWXYZ\") # sequence\n",
    "        self.assertEqual(data[1][2],\"Protein D-E-F\") # protein name\n",
    "        self.assertEqual(data[2][0],\"3GHI\") # id\n",
    "        self.assertEqual(data[2][1],\"ABCDEFGHIJKLMNOPQRSTUVWXYZ\") # sequence\n",
    "        self.assertEqual(data[2][2],\"Protein G-H-I\") # protein name\n",
    "        \n",
    "# if unit tests are ran, remember to delete the .ipynb folder in your sequence folder, created as a result of the temporary test folder\n",
    "#unittest.main(argv=['first-arg-is-ignored'], exit=False)"
   ]
  },
  {
   "cell_type": "code",
   "execution_count": 41,
   "id": "1d8643a3-b348-4b34-8ec1-d1ec887faecf",
   "metadata": {},
   "outputs": [],
   "source": [
    "def process_uniprot_files(folder_name):\n",
    "    data = []\n",
    "    lengths = []\n",
    "    for file in os.listdir(folder_name):\n",
    "        with open(os.path.join(folder_name, file), 'r') as fastaFile:\n",
    "            id = \"\"\n",
    "            seq = \"\"\n",
    "            name = \"\"\n",
    "            lines = fastaFile.readlines()\n",
    "            if not lines: # empty file\n",
    "                print(f\"Skipped {file} as it is empty\")\n",
    "                continue\n",
    "            for line in lines:\n",
    "                line = line.strip()\n",
    "                if line.startswith(\">\"):\n",
    "                    contents = line.split(\"|\")\n",
    "                    # std format is >sp|id|name and details\n",
    "                    try:\n",
    "                        id = contents[1]\n",
    "                        name = contents[2].split(\" \")[0] # ommit details \n",
    "                    except IndexError:\n",
    "                        print(f\"Skipped {file} as it is missing required metadata\")\n",
    "                        continue\n",
    "                else:\n",
    "                    seq += line.upper()\n",
    "            if id!=\"\" and seq!=\"\" and name!=\"\":\n",
    "                protein = (id, seq, name)\n",
    "                data.append(protein)\n",
    "                lengths.append(len(seq))\n",
    "            else:\n",
    "                 print(f\"Skipped {file} as it is missing required data\")\n",
    "    return data,lengths"
   ]
  },
  {
   "cell_type": "code",
   "execution_count": 43,
   "id": "2c9e4c88-648f-4631-b720-d117e829e376",
   "metadata": {},
   "outputs": [
    {
     "name": "stderr",
     "output_type": "stream",
     "text": [
      ".....\n",
      "----------------------------------------------------------------------\n",
      "Ran 5 tests in 0.053s\n",
      "\n",
      "OK\n"
     ]
    },
    {
     "name": "stdout",
     "output_type": "stream",
     "text": [
      "Skipped empty.fasta as it is empty\n",
      "Skipped empty.fasta as it is empty\n",
      "['>sp', 'A01010', 'ABC1_HUMAN OS=Homo sapiens OX=9606 GN=KRAS PE=1 SV=1']\n"
     ]
    },
    {
     "data": {
      "text/plain": [
       "<unittest.main.TestProgram at 0x12840321e10>"
      ]
     },
     "execution_count": 43,
     "metadata": {},
     "output_type": "execute_result"
    }
   ],
   "source": [
    "# Tests\n",
    "class TestProcessUniProtFiles(unittest.TestCase):\n",
    "    def setUp(self):\n",
    "        self.test_dir = tempfile.TemporaryDirectory()\n",
    "\n",
    "    def tearDown(self):\n",
    "        self.test_dir.cleanup()\n",
    "        \n",
    "    def make_test_file(self, filename, fasta):\n",
    "        file = os.path.join(self.test_dir.name, filename)\n",
    "        with open(file, 'w') as fastaFile:\n",
    "            fastaFile.write(fasta)\n",
    "        return file\n",
    "\n",
    "    def test_empty_file(self):\n",
    "        self.make_test_file(\"empty.fasta\", \"\")\n",
    "        data, lengths = process_fasta_files(self.test_dir.name)\n",
    "        # protein should not be created\n",
    "        self.assertEqual(len(data),0) \n",
    "        self.assertEqual(lengths,[])\n",
    "        \n",
    "    def test_uniprot_file(self):\n",
    "        self.make_test_file(\"A01010.fasta.txt\", \">sp|A01010|ABC1_HUMAN OS=Homo sapiens OX=9606 GN=KRAS PE=1 SV=1\\nABCDEFGHIJKLMNOPQRSTUVWXYZ\\nABCDEFGHIJKLMNOPQRSTUVWXYZ\\nABC\\n\")\n",
    "        data, lengths = process_uniprot_files(self.test_dir.name)\n",
    "        self.assertEqual(len(data),1)\n",
    "\n",
    "#unittest.main(argv=['first-arg-is-ignored'], exit=False)"
   ]
  },
  {
   "cell_type": "code",
   "execution_count": 54,
   "id": "77943713-2480-4937-a64f-60f02c8a3cdd",
   "metadata": {},
   "outputs": [],
   "source": [
    "# generate sequence for missense mutation\n",
    "def generate_mutated_sequence(original_sequence, mutation):\n",
    "    mutated_sequence = \"\"\n",
    "    if original_sequence and mutation: # not empty\n",
    "        position = int(mutation[1:-1])-1 # index in python starts at 0\n",
    "        og_aa = mutation[0]\n",
    "        if original_sequence[position] == og_aa: # check the mutation is valid\n",
    "            new_aa = mutation[-1]\n",
    "            mutated_sequence = original_sequence[:position] + new_aa + original_sequence[position+1:]\n",
    "    return mutated_sequence"
   ]
  },
  {
   "cell_type": "code",
   "execution_count": 55,
   "id": "2130a338-a453-4b2b-9fde-5907a3c713f4",
   "metadata": {},
   "outputs": [
    {
     "name": "stderr",
     "output_type": "stream",
     "text": [
      ".........\n",
      "----------------------------------------------------------------------\n",
      "Ran 9 tests in 0.018s\n",
      "\n",
      "OK\n"
     ]
    },
    {
     "name": "stdout",
     "output_type": "stream",
     "text": [
      "Skipped empty.fasta as it is empty\n",
      "Skipped empty.fasta as it is empty\n",
      "['>sp', 'A01010', 'ABC1_HUMAN OS=Homo sapiens OX=9606 GN=KRAS PE=1 SV=1']\n"
     ]
    },
    {
     "data": {
      "text/plain": [
       "<unittest.main.TestProgram at 0x1283fb26010>"
      ]
     },
     "execution_count": 55,
     "metadata": {},
     "output_type": "execute_result"
    }
   ],
   "source": [
    "# Tests\n",
    "class TestGenerateMutatedSequence(unittest.TestCase):\n",
    "    def test_empty_sequence(self):\n",
    "        original_sequence = \"\"\n",
    "        mutation = \"Z26A\"\n",
    "        mutated_sequence = generate_mutated_sequence(original_sequence, mutation)\n",
    "        self.assertEqual(mutated_sequence,\"\")\n",
    "        \n",
    "    def test_empty_sequence(self):\n",
    "        original_sequence = \"ABCDEFGHIJKLMNOPQRSTUVWXYZ\"\n",
    "        mutation = \"\"\n",
    "        mutated_sequence = generate_mutated_sequence(original_sequence, mutation)\n",
    "        self.assertEqual(mutated_sequence,\"\")\n",
    "        \n",
    "    def test_single_digit_position(self):\n",
    "        original_sequence = \"ABCDEFGHIJKLMNOPQRSTUVWXYZ\"\n",
    "        mutation = \"A1C\"\n",
    "        mutated_sequence = generate_mutated_sequence(original_sequence, mutation)\n",
    "        self.assertEqual(mutated_sequence,\"CBCDEFGHIJKLMNOPQRSTUVWXYZ\")\n",
    "\n",
    "    def test_invalid_mutation(self):\n",
    "        original_sequence = \"ABCDEFGHIJKLMNOPQRSTUVWXYZ\"\n",
    "        mutation = \"Z1C\"\n",
    "        mutated_sequence = generate_mutated_sequence(original_sequence, mutation)\n",
    "        self.assertEqual(mutated_sequence,\"\")\n",
    "        \n",
    "    def test_double_digit__end_position(self):\n",
    "        original_sequence = \"ABCDEFGHIJKLMNOPQRSTUVWXYZ\"\n",
    "        mutation = \"Z26A\"\n",
    "        mutated_sequence = generate_mutated_sequence(original_sequence, mutation)\n",
    "        self.assertEqual(mutated_sequence,\"ABCDEFGHIJKLMNOPQRSTUVWXYA\")\n",
    "\n",
    "unittest.main(argv=['first-arg-is-ignored'], exit=False)"
   ]
  },
  {
   "cell_type": "code",
   "execution_count": 1,
   "id": "031da4d1-bc78-4159-85a7-e1e882a0075c",
   "metadata": {},
   "outputs": [],
   "source": [
    "# retrieve the first model from the pdb file\n",
    "# library: https://biopython.org/docs/1.75/api/Bio.PDB.Structure.html\n",
    "# library code: https://github.com/biopython/biopython/blob/master/Bio/PDB/\n",
    "def process_pdb_files(folder_name):\n",
    "    models = {}\n",
    "    for file in os.listdir(folder_name):\n",
    "        protein_name = os.path.splitext(file)[0].upper()\n",
    "        structure = Bio.PDB.PDBParser().get_structure(protein_name, folder_name+\"/\"+file)\n",
    "        model = structure[0]\n",
    "        models[protein_name] = model\n",
    "    return models"
   ]
  },
  {
   "cell_type": "code",
   "execution_count": null,
   "id": "a9e1ceec-2b8e-4f94-b71e-e763fc4f4ec1",
   "metadata": {},
   "outputs": [],
   "source": [
    "# retrieve all residues from pdb file \n",
    "def process_pdb_files_by_residues(folder_name):\n",
    "    proteins = {}\n",
    "    for file in os.listdir(folder_name):\n",
    "        protein_name = os.path.splitext(file)[0].upper()\n",
    "        structure = Bio.PDB.PDBParser().get_structure(protein_name, folder_name+\"/\"+file)\n",
    "        residues = list(structure.get_residues()) # type conversion  necessary as get_residues method is a generator \n",
    "        proteins[protein_name] = residues\n",
    "    return proteins"
   ]
  },
  {
   "cell_type": "code",
   "execution_count": null,
   "id": "13eb003f-1753-4429-9e09-a1a1b55c0fdb",
   "metadata": {},
   "outputs": [],
   "source": [
    "# retrieve all chains from pdb files \n",
    "def process_pdb_files_by_chains(folder_name):\n",
    "    proteins = {}\n",
    "    for file in os.listdir(folder_name):\n",
    "        protein_name = os.path.splitext(file)[0].upper()\n",
    "        structure = Bio.PDB.PDBParser().get_structure(protein_name, folder_name+\"/\"+file)\n",
    "        chains = list(structure.get_chains()) # type conversion  necessary as get_residues method is a generator \n",
    "        proteins[protein_name] = chains\n",
    "    return proteins"
   ]
  },
  {
   "cell_type": "code",
   "execution_count": 2,
   "id": "64b8242d-c163-449a-846e-96b58b144c90",
   "metadata": {},
   "outputs": [],
   "source": [
    "#Source: https://github.com/zzhangzzhang/pLMs-interpretability/blob/main/jac/utils.py\n",
    "def do_apc(x, rm=1):\n",
    "  '''given matrix do apc correction'''\n",
    "  # trying to remove different number of components\n",
    "  # rm=0 remove none\n",
    "  # rm=1 apc\n",
    "  x = np.copy(x)\n",
    "  if rm == 0:\n",
    "    return x\n",
    "  elif rm == 1:\n",
    "    a1 = x.sum(0,keepdims=True)\n",
    "    a2 = x.sum(1,keepdims=True)\n",
    "    y = x - (a1*a2)/x.sum()\n",
    "  else:\n",
    "    # decompose matrix, rm largest(s) eigenvectors\n",
    "    u,s,v = np.linalg.svd(x)\n",
    "    y = s[rm:] * u[:,rm:] @ v[rm:,:]\n",
    "  np.fill_diagonal(y,0)\n",
    "  return y"
   ]
  },
  {
   "cell_type": "code",
   "execution_count": 3,
   "id": "03d5e30a-a48b-43d4-8183-0400ead72118",
   "metadata": {},
   "outputs": [],
   "source": [
    "# Source: https://github.com/zzhangzzhang/pLMs-interpretability/blob/main/jac/01_jac_calculate_visualise.ipynb \n",
    "def get_categorical_jacobian(x,ln,model,device='cpu'):\n",
    "  # ∂in/∂out\n",
    "  with torch.no_grad():\n",
    "    f = lambda x: model(x)[\"logits\"][...,1:(ln+1),4:24].cpu().numpy()\n",
    "    fx = f(x.to(device))[0]\n",
    "    x = torch.tile(x,[20,1]).to(device)\n",
    "    fx_h = np.zeros((ln,20,ln,20))\n",
    "    with tqdm(total=ln) as pbar:\n",
    "        for n in range(ln): # for each position\n",
    "          x_h = torch.clone(x)\n",
    "          x_h[:,n+1] = torch.arange(4,24) # mutate to all 20 aa\n",
    "          fx_h[n] = f(x_h)\n",
    "        pbar.update(1)\n",
    "    return fx_h - fx"
   ]
  },
  {
   "cell_type": "code",
   "execution_count": 4,
   "id": "bc780985-9c29-4f84-89ea-25c580e017a3",
   "metadata": {},
   "outputs": [],
   "source": [
    "# Source: https://github.com/zzhangzzhang/pLMs-interpretability/blob/main/jac/utils.py\n",
    "def get_contacts(x, symm=True, center=True, rm=1):\n",
    "  # convert jacobian (L,A,L,A) to contact map (L,L)\n",
    "  j = x.copy()\n",
    "  if center:\n",
    "    for i in range(4): j -= j.mean(i,keepdims=True)\n",
    "  j_fn = np.sqrt(np.square(j).sum((1,3)))\n",
    "  np.fill_diagonal(j_fn,0)\n",
    "  j_fn_corrected = do_apc(j_fn, rm=rm)\n",
    "  if symm:\n",
    "    j_fn_corrected = (j_fn_corrected + j_fn_corrected.T)/2\n",
    "  return j_fn_corrected"
   ]
  },
  {
   "cell_type": "code",
   "execution_count": null,
   "id": "6bda1eb9-746c-4b7c-8e97-7d2b5eccfbd4",
   "metadata": {},
   "outputs": [],
   "source": []
  },
  {
   "cell_type": "code",
   "execution_count": null,
   "id": "3090b121-12fe-4f37-96d3-3c1706e194e6",
   "metadata": {},
   "outputs": [],
   "source": []
  }
 ],
 "metadata": {
  "kernelspec": {
   "display_name": "Python 3 (ipykernel)",
   "language": "python",
   "name": "python3"
  },
  "language_info": {
   "codemirror_mode": {
    "name": "ipython",
    "version": 3
   },
   "file_extension": ".py",
   "mimetype": "text/x-python",
   "name": "python",
   "nbconvert_exporter": "python",
   "pygments_lexer": "ipython3",
   "version": "3.11.1"
  }
 },
 "nbformat": 4,
 "nbformat_minor": 5
}
