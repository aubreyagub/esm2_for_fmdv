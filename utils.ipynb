{
 "cells": [
  {
   "cell_type": "code",
   "execution_count": 8,
   "id": "355b7071-893d-4aa9-8104-96aa18114464",
   "metadata": {},
   "outputs": [],
   "source": [
    "import os\n",
    "import numpy as np\n",
    "import torch\n",
    "from tqdm import tqdm # for progress bar\n",
    "import Bio.PDB"
   ]
  },
  {
   "cell_type": "code",
   "execution_count": null,
   "id": "c3486273-07e7-4217-99de-b5b0c7aeb608",
   "metadata": {},
   "outputs": [],
   "source": [
    "def process_fasta_files(folder_name):\n",
    "    data = []\n",
    "    lengths = []\n",
    "    for file in os.listdir(folder_name):\n",
    "        with open(os.path.join(folder_name, file), 'r') as fastaFile:\n",
    "            id = \"\"\n",
    "            seq = \"\"\n",
    "            for line in fastaFile:\n",
    "                line = line.strip()\n",
    "                if line.startswith(\">\"):\n",
    "                    contents = line.split(\"|\")\n",
    "                    id = contents[0][1:]\n",
    "                else:\n",
    "                    seq = line.upper()\n",
    "            protein = (id, seq)\n",
    "            data.append(protein)\n",
    "            lengths.append(len(seq))\n",
    "    return data,lengths"
   ]
  },
  {
   "cell_type": "code",
   "execution_count": 11,
   "id": "031da4d1-bc78-4159-85a7-e1e882a0075c",
   "metadata": {},
   "outputs": [],
   "source": [
    "def process_pdb_files(folder_name):\n",
    "    models = {}\n",
    "    for file in os.listdir(folder_name):\n",
    "        protein_name = os.path.splitext(file)[0].upper()\n",
    "        structure = Bio.PDB.PDBParser().get_structure(protein_name, folder_name+\"/\"+file)\n",
    "        model = structure[0]\n",
    "        models[protein_name] = model\n",
    "    return models"
   ]
  },
  {
   "cell_type": "code",
   "execution_count": 2,
   "id": "64b8242d-c163-449a-846e-96b58b144c90",
   "metadata": {},
   "outputs": [],
   "source": [
    "#Source: https://github.com/zzhangzzhang/pLMs-interpretability/blob/main/jac/utils.py\n",
    "def do_apc(x, rm=1):\n",
    "  '''given matrix do apc correction'''\n",
    "  # trying to remove different number of components\n",
    "  # rm=0 remove none\n",
    "  # rm=1 apc\n",
    "  x = np.copy(x)\n",
    "  if rm == 0:\n",
    "    return x\n",
    "  elif rm == 1:\n",
    "    a1 = x.sum(0,keepdims=True)\n",
    "    a2 = x.sum(1,keepdims=True)\n",
    "    y = x - (a1*a2)/x.sum()\n",
    "  else:\n",
    "    # decompose matrix, rm largest(s) eigenvectors\n",
    "    u,s,v = np.linalg.svd(x)\n",
    "    y = s[rm:] * u[:,rm:] @ v[rm:,:]\n",
    "  np.fill_diagonal(y,0)\n",
    "  return y"
   ]
  },
  {
   "cell_type": "code",
   "execution_count": 3,
   "id": "03d5e30a-a48b-43d4-8183-0400ead72118",
   "metadata": {},
   "outputs": [],
   "source": [
    "# Source: https://github.com/zzhangzzhang/pLMs-interpretability/blob/main/jac/01_jac_calculate_visualise.ipynb \n",
    "def get_categorical_jacobian(x,ln,model,device='cpu'):\n",
    "  # ∂in/∂out\n",
    "  with torch.no_grad():\n",
    "    f = lambda x: model(x)[\"logits\"][...,1:(ln+1),4:24].cpu().numpy()\n",
    "    fx = f(x.to(device))[0]\n",
    "    x = torch.tile(x,[20,1]).to(device)\n",
    "    fx_h = np.zeros((ln,20,ln,20))\n",
    "    with tqdm(total=ln) as pbar:\n",
    "        for n in range(ln): # for each position\n",
    "          x_h = torch.clone(x)\n",
    "          x_h[:,n+1] = torch.arange(4,24) # mutate to all 20 aa\n",
    "          fx_h[n] = f(x_h)\n",
    "        pbar.update(1)\n",
    "    return fx_h - fx"
   ]
  },
  {
   "cell_type": "code",
   "execution_count": 4,
   "id": "bc780985-9c29-4f84-89ea-25c580e017a3",
   "metadata": {},
   "outputs": [],
   "source": [
    "# Source: https://github.com/zzhangzzhang/pLMs-interpretability/blob/main/jac/utils.py\n",
    "def get_contacts(x, symm=True, center=True, rm=1):\n",
    "  # convert jacobian (L,A,L,A) to contact map (L,L)\n",
    "  j = x.copy()\n",
    "  if center:\n",
    "    for i in range(4): j -= j.mean(i,keepdims=True)\n",
    "  j_fn = np.sqrt(np.square(j).sum((1,3)))\n",
    "  np.fill_diagonal(j_fn,0)\n",
    "  j_fn_corrected = do_apc(j_fn, rm=rm)\n",
    "  if symm:\n",
    "    j_fn_corrected = (j_fn_corrected + j_fn_corrected.T)/2\n",
    "  return j_fn_corrected"
   ]
  },
  {
   "cell_type": "code",
   "execution_count": null,
   "id": "6bda1eb9-746c-4b7c-8e97-7d2b5eccfbd4",
   "metadata": {},
   "outputs": [],
   "source": []
  },
  {
   "cell_type": "code",
   "execution_count": null,
   "id": "3090b121-12fe-4f37-96d3-3c1706e194e6",
   "metadata": {},
   "outputs": [],
   "source": []
  }
 ],
 "metadata": {
  "kernelspec": {
   "display_name": "Python 3 (ipykernel)",
   "language": "python",
   "name": "python3"
  },
  "language_info": {
   "codemirror_mode": {
    "name": "ipython",
    "version": 3
   },
   "file_extension": ".py",
   "mimetype": "text/x-python",
   "name": "python",
   "nbconvert_exporter": "python",
   "pygments_lexer": "ipython3",
   "version": "3.11.1"
  }
 },
 "nbformat": 4,
 "nbformat_minor": 5
}
