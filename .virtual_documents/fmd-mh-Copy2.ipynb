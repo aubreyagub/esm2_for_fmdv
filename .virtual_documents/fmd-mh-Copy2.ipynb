from fmd_evolution import *
import esm # to use the PLM ESM-2
import os # to process evaluation data from MSA file
import numpy # for evaluation of paths


# Source: https://github.com/facebookresearch/esm/tree/main?tab=readme-ov-file#esmfold
model, alphabet = esm.pretrained.load_model_and_alphabet("esm2_t33_650M_UR50D") 
batch_converter = alphabet.get_batch_converter()


modelSingleton = ModelSingleton(model=model,alphabet=alphabet,batch_converter=batch_converter)


reference_seq = 'TTSAGESADPVTATVENYGGETQVQRRQHTDIAFILDRFVKVKPKEQVNVLDLMQIPAHTLVGALLRTATYYFSDLELAVKHEGDLTWVPNGAPETALDNTTNPTAYHKEPLTRLALPYTAPHRVLATVYNGSSKYGDTSTNNVRGDLQVLAQKAERTLPTSFNFGAIKATRVTELLYRMKRAETYCPRPLLAIQPSDARHKQRIVAPAKQ'


# mutation strategy parameters
constrained_start = 138 # start of high variability region
constrained_end = 143 # end of high variability region
mh_iterations = 10 # for metropolis-hastings algorithm
top_k_percent = 0.02 # % of pool of 114 possible mutations

# evaluation strategy parameters
max_generations = 7


# reference seq parameters
segment = list(reference_seq)[constrained_start-1:constrained_end] # constrained segment to mutate
ref_seq_id = ''.join(segment)
ref_seq_id = "base"


for pos in range(constrained_start,constrained_end+1):
    print(f"Position {pos} : Amino Acid {segment[pos-constrained_start]}")





plm = ProteinLanguageModel()
fmd_sequence = plm.create_protein_sequence(id=ref_seq_id,sequence=reference_seq) # protein sequence object generator


mutation_strat = MetropolisHastings(iterations=mh_iterations, top_k_percent=top_k_percent, start_pos=constrained_start,end_pos=constrained_end) # to generate pool of mutations
eval_strat = EvaluationStrategy(root_sequence = fmd_sequence) # to score and to filter pool of mutations
evolution = Evolution(
    root_sequence = fmd_sequence,
    mutation_strategy = mutation_strat,
    evaluation_strategy = eval_strat,
    max_generations=max_generations)


evolution.evolve_sequence() 


# evolution.evolve_sequence() # positions are 0-indexed, adjusted later for graph, fitness landscape, mutation score z axis, y axis pos 1 (all possible aas), y pos 2 (same), order the aminoa cids correctly! using embeddings for what's similar/close


evolution.visualise_graph() 


paths = evolution.get_paths() # paths to leaf nodes only
num_of_paths = len(paths)
print(f"Number of paths generated: {num_of_paths}") # sorted by mean mutation score for path


alignment_file_path = os.path.join("fmd_evolution/evaluation", "FMDV_VP1_HVR_1571seq_aln.fas") #  can I push this to my repo? or not supposed to be public?

evaluator = Evaluation(
    tree = evolution.G,
    alignment_file_path = alignment_file_path,
    start_pos = constrained_start,
    ref_seq_id = ref_seq_id
)


for i in range(num_of_paths):
    average_mutation_score,path = paths[i]
    path_name = i+1 # start from Path 1
    evolution.visualise_graph(path=path,title=f"Evolutionary Path {path_name}")
    path_as_mutations = evaluator.get_path_as_mutations(path)
    print(f"Path {path_name} as mutations: {path_as_mutations}")


paths_mutation_matches,paths_final_segment_matches,paths_consecutive_pair_matches = evaluator.get_paths_metric_data(paths)


evaluator.heatmap_plot_aa_frequencies()


paths_mutation_matches_by_mutation = evaluator.get_metrics_by_mutation(paths_mutation_matches,paths)
for i in range(num_of_paths):
    path_name = f"Path {i+1}"
    print(f"{path_name}: {paths_mutation_matches_by_mutation[path_name]}")


average_mf_nonzero = evaluator.get_average_proportion_of_paths_with_nonzero_values(paths_mutation_matches)
print(f"Average proportion of mutations with non-zero MF across all paths: {average_mf_nonzero}")


mf_medians = evaluator.get_box_plot_medians(paths_mutation_matches)
mf_median_of_medians = np.median(mf_medians)
print(f"Median of median MFs across all paths: {mf_median_of_medians}")


evaluator.box_plot_path_mutation_matches(paths_mutation_matches)


paths_pair_matches_by_mutation = evaluator.get_metrics_by_mutation(paths_consecutive_pair_matches,paths,pair=True)
for i in range(num_of_paths):
    path_name = f"Path {i+1}"
    print(f"{path_name}: {paths_pair_matches_by_mutation[path_name]}")


average_cmc_nonzero = evaluator.get_average_proportion_of_paths_with_nonzero_values(paths_consecutive_pair_matches)
print(f"Average proportion of mutations with non-zero MF across all paths: {average_cmc_nonzero}")


mf_medians = evaluator.get_box_plot_medians(paths_consecutive_pair_matches)
mf_median_of_medians = np.median(mf_medians)
print(f"Median of median CMCs across all paths: {mf_median_of_medians}")


evaluator.box_plot_path_consecutive_pair_matches(paths_consecutive_pair_matches)


evaluator.bar_plot_path_final_segment_matches(paths_final_segment_matches)


# prior to changing should_continue_mutating from checking if sequence probability is increasing to checking if overall mutatioon score is increasing and using the minimum average logit score per position rather than the minimum aa logit value
# experiment observation: constraining positions for mutation increases length of evolution path  
# this is not surprising as mutating the position least favoured by the PLM != mutating the position that will yield an increase in sequence probability 
# replacing the current amino acid at the lowest logit position does not automatically increase the sequence probability 
# this is because it may choose a position where mutations are unlikely to happen at to begin  with (ie highly conserved regions) 
# thus leading to an overall decrease on the sequence probability and structure similarity
# When mutations are contrained to positions we know are highly variable from observed data, this aligns with the PLM's knowledge of existing mutations
# such that mutating these highly variable position can lead to higher probability sequences as it expects mutations to occur in these positions



