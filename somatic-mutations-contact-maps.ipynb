{
 "cells": [
  {
   "cell_type": "markdown",
   "id": "b74b4dd1-f687-4ed7-a2f9-43ce2cefa5b6",
   "metadata": {},
   "source": [
    "# Generating Contact Maps of Somatic Mutations"
   ]
  },
  {
   "cell_type": "code",
   "execution_count": null,
   "id": "0a56250e-a13c-45d9-bd6b-7a439669b1bf",
   "metadata": {},
   "outputs": [],
   "source": [
    "# symbol : [sequence,]\n",
    "well_typed_proteins = {\n",
    "    \"KRAS\":[\"4OBE\",\"P01116\"] # https://www.uniprot.org/uniprotkb/P01116/entry#sequences\n",
    "    \"TP53\":[\"2OCJ\",\"P04637\"] # https://www.uniprot.org/uniprotkb/P04637/entry#sequences\n",
    "    \"AKT1\":[\"1UNQ\",\"P31749\"] # https://www.uniprot.org/uniprotkb/P31749/entry#sequences\n",
    "    \"RB1\":[\"4ELJ\",\"P06400\"] # https://www.uniprot.org/uniprotkb/P06400/entry#sequences\n",
    "    \"BAD\":[\"1MAZ\",\"Q92934\"] # https://www.uniprot.org/uniprotkb/Q92934/entry#sequences\n",
    "}\n",
    "\n",
    "# symbol : {missense mutation : structure,}\n",
    "most_common_somatic_mutations = {\n",
    "        \"KRAS\":{\"G12D\":\"\", \"G12V\": \"8PI0\", \"G13D\":\"\"} # https://portal.gdc.cancer.gov/genes/ENSG00000133703\n",
    "        \"TP53\":{\"R175H\":\"\", \"R248Q\":\"\", \"R273C\":\"\"}, # https://portal.gdc.cancer.gov/genes/ENSG00000141510\n",
    "        \"AKT1\":{\"E17K\":\"\", \"E40K\":\"\", \"W80R\":\"\"}, # https://portal.gdc.cancer.gov/genes/ENSG00000142208\n",
    "        \"RB1\":{}, # no missense mutation in most common somatic mutations, https://portal.gdc.cancer.gov/genes/ENSG00000139687 \n",
    "        \"BAD\":{\"G136D\":\"\", \"M117I\":\"\", \"G62E\":}, # https://portal.gdc.cancer.gov/genes/ENSG00000002330\n",
    "    }"
   ]
  }
 ],
 "metadata": {
  "kernelspec": {
   "display_name": "Python 3 (ipykernel)",
   "language": "python",
   "name": "python3"
  },
  "language_info": {
   "codemirror_mode": {
    "name": "ipython",
    "version": 3
   },
   "file_extension": ".py",
   "mimetype": "text/x-python",
   "name": "python",
   "nbconvert_exporter": "python",
   "pygments_lexer": "ipython3",
   "version": "3.11.1"
  }
 },
 "nbformat": 4,
 "nbformat_minor": 5
}
