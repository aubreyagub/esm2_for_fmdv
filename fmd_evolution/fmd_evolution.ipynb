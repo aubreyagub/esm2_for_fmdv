{
 "cells": [
  {
   "cell_type": "code",
   "execution_count": 1,
   "id": "71096a01-1d44-403d-95d5-dd9bf4fd52b4",
   "metadata": {},
   "outputs": [
    {
     "name": "stderr",
     "output_type": "stream",
     "text": [
      "/home/ilmmbis/anaconda3/envs/evolocity_env/lib/python3.7/site-packages/tqdm/auto.py:21: TqdmWarning: IProgress not found. Please update jupyter and ipywidgets. See https://ipywidgets.readthedocs.io/en/stable/user_install.html\n",
      "  from .autonotebook import tqdm as notebook_tqdm\n"
     ]
    }
   ],
   "source": [
    "from Bio import SeqIO\n",
    "from Bio.Seq import Seq\n",
    "import pandas as pd\n",
    "import numpy as np\n",
    "import torch\n",
    "import esm\n",
    "import numpy as np\n",
    "import matplotlib.pyplot as plt\n",
    "import seaborn as sns\n",
    "import pandas as pd\n",
    "from numpy import dot\n",
    "from numpy.linalg import norm\n",
    "from Bio import SeqIO\n",
    "from scipy.special import softmax\n",
    "from Bio.Seq import Seq\n",
    "from Bio.SeqRecord import SeqRecord"
   ]
  },
  {
   "cell_type": "markdown",
   "id": "b27b5bac-a971-4919-9e78-cb9495feaea3",
   "metadata": {},
   "source": [
    "## Evolving FMD One Mutation At-a-time"
   ]
  },
  {
   "cell_type": "code",
   "execution_count": 2,
   "id": "3392697b-690c-4d07-9e2f-1535adcc6d5c",
   "metadata": {},
   "outputs": [],
   "source": [
    "# Goal: To predict the path of evolution of the virus causing foot-and-mouth disease\n",
    "# Method: \n",
    "# > feed starting sequence to a PLM \n",
    "# > extracting logit scores to select the position of most probable change \n",
    "# > mutate position to most likely amino acid > check the probability of the current sequence \n",
    "# > add to network and continue OR kill off path and backtrack \n"
   ]
  },
  {
   "cell_type": "code",
   "execution_count": 3,
   "id": "71637cd9-917b-4c78-a221-df7eed150263",
   "metadata": {},
   "outputs": [
    {
     "name": "stdout",
     "output_type": "stream",
     "text": [
      "211\n"
     ]
    }
   ],
   "source": [
    "reference_seq = 'TTSAGESADPVTATVENYGGETQVQRRQHTDIAFILDRFVKVKPKEQVNVLDLMQIPAHTLVGALLRTATYYFSDLELAVKHEGDLTWVPNGAPETALDNTTNPTAYHKEPLTRLALPYTAPHRVLATVYNGSSKYGDTSTNNVRGDLQVLAQKAERTLPTSFNFGAIKATRVTELLYRMKRAETYCPRPLLAIQPSDARHKQRIVAPAKQ'\n",
    "print(len(reference_seq))"
   ]
  },
  {
   "cell_type": "code",
   "execution_count": 4,
   "id": "e5f3783f-706b-448b-a0f1-9e14ad6d687e",
   "metadata": {},
   "outputs": [
    {
     "name": "stdout",
     "output_type": "stream",
     "text": [
      "['<cls>', '<pad>', '<eos>', '<unk>', 'L', 'A', 'G', 'V', 'S', 'E', 'R', 'T', 'I', 'D', 'P', 'K', 'Q', 'N', 'F', 'Y', 'M', 'H', 'W', 'C', 'X', 'B', 'U', 'Z', 'O', '.', '-', '<null_1>', '<mask>']\n"
     ]
    }
   ],
   "source": [
    "# !pip install nbformata\n",
    "%run utils.ipynb"
   ]
  },
  {
   "cell_type": "code",
   "execution_count": 5,
   "id": "20c0daf8-fc73-4b20-8c8d-03267bdd26ca",
   "metadata": {},
   "outputs": [],
   "source": [
    "token_offset = 4 # amino acid characters are located at indices 4-23 in the alphabet"
   ]
  },
  {
   "cell_type": "code",
   "execution_count": 8,
   "id": "ce2545e2-2795-453f-aec3-cad97d6d9aa1",
   "metadata": {},
   "outputs": [
    {
     "name": "stdout",
     "output_type": "stream",
     "text": [
      "\n",
      "Step 0\n",
      "Mean log p of current sequence: -0.2114058881998062\n",
      "Invalid amino acid candidate for mutation as it is the same as the current amino acid: {ref_aa}>{aa_char}\n",
      "Using the second best fit amino acid for this position.\n",
      "Position to mutate: 139\n",
      "Reference amino acid: S\n",
      "New amino acid: K\n",
      "ROI in reference sequence: TSTNNV\n",
      "ROI in mutated sequence: TKTNNV\n",
      "\n",
      "Step 1\n",
      "Mean log p of current sequence: -0.20803409814834595\n",
      "Invalid amino acid candidate for mutation as it is the same as the current amino acid: {ref_aa}>{aa_char}\n",
      "Using the second best fit amino acid for this position.\n",
      "Position to mutate: 141\n",
      "Reference amino acid: N\n",
      "New amino acid: T\n",
      "ROI in reference sequence: TKTNNV\n",
      "ROI in mutated sequence: TKTTNV\n",
      "\n",
      "Step 2\n",
      "Mean log p of current sequence: -0.20574155449867249\n",
      "Invalid amino acid candidate for mutation as it is the same as the current amino acid: {ref_aa}>{aa_char}\n",
      "Using the second best fit amino acid for this position.\n",
      "Position to mutate: 140\n",
      "Reference amino acid: T\n",
      "New amino acid: V\n",
      "ROI in reference sequence: TKTTNV\n",
      "ROI in mutated sequence: TKVTNV\n",
      "\n",
      "Step 3\n",
      "Mean log p of current sequence: -0.20564386248588562\n",
      "Invalid amino acid candidate for mutation as it is the same as the current amino acid: {ref_aa}>{aa_char}\n",
      "Using the second best fit amino acid for this position.\n",
      "Position to mutate: 138\n",
      "Reference amino acid: T\n",
      "New amino acid: N\n",
      "ROI in reference sequence: TKVTNV\n",
      "ROI in mutated sequence: NKVTNV\n",
      "\n",
      "Step 4\n",
      "Mean log p of current sequence: -0.20760579407215118\n",
      "Invalid amino acid candidate for mutation as it is the same as the current amino acid: {ref_aa}>{aa_char}\n",
      "Using the second best fit amino acid for this position.\n",
      "Position to mutate: 139\n",
      "Reference amino acid: K\n",
      "New amino acid: Q\n",
      "ROI in reference sequence: NKVTNV\n",
      "ROI in mutated sequence: NQVTNV\n",
      "\n",
      "Step 5\n",
      "Mean log p of current sequence: -0.20833703875541687\n",
      "Invalid amino acid candidate for mutation as it is the same as the current amino acid: {ref_aa}>{aa_char}\n",
      "Using the second best fit amino acid for this position.\n",
      "Position to mutate: 139\n",
      "Reference amino acid: Q\n",
      "New amino acid: A\n",
      "ROI in reference sequence: NQVTNV\n",
      "ROI in mutated sequence: NAVTNV\n"
     ]
    }
   ],
   "source": [
    "steps=6\n",
    "new_seq = reference_seq\n",
    "for i in range(steps):\n",
    "    print(f\"\\nStep {i}\")\n",
    "    batch_tokens, batch_len = get_tokens(\"base_seq\",new_seq)\n",
    "    ln = len(batch_tokens[0,1:-1]) # exclude special tokens\n",
    "    logits = get_logit_scores(batch_tokens,ln)\n",
    "    ref_tokens = batch_tokens[0,1:-1]\n",
    "    ref_logits = logits[torch.arange(logits.size(0)),ref_tokens - token_offset]\n",
    "    mean_log_p_current = ref_logits.mean().item()\n",
    "    print(f\"Mean log p of current sequence: {mean_log_p_current}\")\n",
    "    # print(f\"Logits shape: {logits.shape}\") # expected: (211,20)\n",
    "    # print(f\"Reference sequence's logits shape: {ref_logits.shape}\") # expected: (211)\n",
    "\n",
    "    pos,aa_char = get_most_likely_mutation(logits,ref_logits,new_seq)\n",
    "    print(f\"Position to mutate: {pos}\")\n",
    "    print(f\"Reference amino acid: {list(new_seq)[pos]}\")\n",
    "    print(f\"New amino acid: {aa_char}\")\n",
    "    print(f\"ROI in reference sequence: {new_seq[138:144]}\")\n",
    "    new_seq = mutate_seq(new_seq,pos,aa_char)\n",
    "    print(f\"ROI in mutated sequence: {new_seq[138:144]}\")"
   ]
  },
  {
   "cell_type": "code",
   "execution_count": 100,
   "id": "1268b24e-c4bb-4518-a65c-3bfd3ddadd5f",
   "metadata": {},
   "outputs": [],
   "source": [
    "# Signle point mutations - use the ESM model to evaluate a pool of of possible mutations (look at logit scores for each position to choose most probable change), build graph at the same time to allow it to backtranch\n",
    "# note: we do want multiple mutations by the end but accumulate one at a time\n",
    "# keep track of where i am in the \"walk\"/\"possible paths and kill off any improbable paths i end up in \n",
    "# ensure its still functional! eg still "
   ]
  },
  {
   "cell_type": "markdown",
   "id": "66fc3eab-7591-4b46-a058-dec957badbc5",
   "metadata": {},
   "source": [
    "## Terminologies\n",
    "DMS: deep mutational scanning is used to study the impact of mutations on protein structure and function\n",
    "\n",
    "Grammaticality: the distance between original and mutated embeddings - see Hie 2020 \"Learning mutational semantics\"\n"
   ]
  },
  {
   "cell_type": "code",
   "execution_count": 18,
   "id": "6d5d580e-cfa0-475b-b8e3-bc3df229dd66",
   "metadata": {},
   "outputs": [
    {
     "data": {
      "text/plain": [
       "120"
      ]
     },
     "execution_count": 18,
     "metadata": {},
     "output_type": "execute_result"
    }
   ],
   "source": [
    "# F: using the original seq and the desired mutation(s), return the mutated sequence\n",
    "def mutate_sequence(reference_sequence,mutations):\n",
    "    mutated_seq = reference_sequence\n",
    "    for mutation in mutation sequences:\n",
    "        if 'ins' not in mutation and 'del' not in mutation and \"X\" not in mutation:\n",
    "            mutant_amino = mutation[-1]\n",
    "            mutant_pos = int(mutation[1:-1])\n",
    "            mutated_seq = mutated_seq[:mutant_pos-1]+mutant_amino+mutated_seq[mutant_pos:]\n",
    "    return mutated_seq\n",
    "\n",
    "# F: generates a list of sequences where every position in the protein sequence is mutated to every possible amino acid by default\n",
    "# Note: this is only for single-residue mutation - need to update to deal with multiple mutations per sequence\n",
    "def DMS(reference,start=0,end = None):\n",
    "  if end == None:\n",
    "    end = len(reference)\n",
    "  seq_list = []\n",
    "  amino_acids = [\"A\",\"R\",\"N\",\"D\",\"C\",\"Q\",\"E\",\"G\",\"H\",\"I\",\"L\",\"K\",\"M\",\"F\",\"P\",\"S\",\"T\",\"W\",\"Y\",\"V\"]\n",
    "  for i,ref_amino_acid in enumerate(reference):\n",
    "      if i>=start and i<=end:\n",
    "        for mutant_amino_acid in amino_acids:\n",
    "            mutated_seq = reference[:i]+mutant_amino_acid+reference[i+1:]\n",
    "            seq = SeqRecord(Seq(mutated_seq), id=ref_amino_acid+str(i+1)+mutant_amino_acid)\n",
    "            seq_list.append(seq)\n",
    "  return seq_list\n",
    "\n",
    "seqs_of_mutations = DMS(reference_protein,138,143)\n",
    "len(seqs_of_mutations)"
   ]
  },
  {
   "cell_type": "code",
   "execution_count": 19,
   "id": "9377b2ab-3682-4d64-9291-a455e7c51dc1",
   "metadata": {},
   "outputs": [],
   "source": [
    "# F: use PLM to extract embedding and logits for a given mutation\n",
    "def embed_sequence(sequence,model,device,model_layers,batch_converter):\n",
    "    #Sequences to embed (We only embed the reference and use the probabilities from that to generate the scores)\n",
    "    sequence_data = [('base', sequence)]\n",
    "\n",
    "    #Get tokens etc\n",
    "    batch_labels, batch_strs, batch_tokens = batch_converter(sequence_data)\n",
    "    batch_len = (batch_tokens != alphabet.padding_idx).sum(1)[0]\n",
    "\n",
    "    #Move tokens to GPU\n",
    "    if torch.cuda.is_available():\n",
    "        batch_tokens = batch_tokens.to(device=device, non_blocking=True)\n",
    "\n",
    "    with torch.no_grad():\n",
    "        results = model(batch_tokens, repr_layers=[model_layers], return_contacts=False)\n",
    "    del batch_tokens\n",
    "\n",
    "    #Embed Sequences\n",
    "    token_representation = results[\"representations\"][model_layers][0]\n",
    "    full_embedding = token_representation[1:batch_len - 1].cpu()\n",
    "    base_mean_embedding  = token_representation[1 : batch_len - 1].mean(0).cpu()\n",
    "\n",
    "    #Get Embedding and probabilities for reference sequence (Should be first sequence in data)\n",
    "    lsoftmax = torch.nn.LogSoftmax(dim=1)\n",
    "    base_logits = lsoftmax((results[\"logits\"][0]).to(device=\"cpu\"))\n",
    "    return results, base_logits, base_mean_embedding,full_embedding\n",
    "\n",
    "# F: process embeddings and logits for sequence and return as a dictionary\n",
    "def process_protein_sequence(sequence,model,model_layers,batch_converter):\n",
    "    #Embed Sequence\n",
    "    base_seq = sequence\n",
    "    results,base_logits, base_mean_embedding, full_embedding = embed_sequence(base_seq,model,device,model_layers,batch_converter)\n",
    "    results_dict = {}\n",
    "    results_dict[\"Mean_Embedding\"] = base_mean_embedding.tolist()\n",
    "    # results_dict[\"Full_Embedding\"] = full_embedding.tolist()\n",
    "    results_dict[\"Logits\"] = base_logits.tolist()\n",
    "    return results_dict"
   ]
  },
  {
   "cell_type": "code",
   "execution_count": null,
   "id": "c0b76a99-e02b-4d1b-85b1-ef46dab1ce48",
   "metadata": {},
   "outputs": [],
   "source": [
    "# F: \n",
    "def grammaticality_and_evolutionary_index(word_pos_prob, seq, mutations):\n",
    "    if len(mutations) == 0:\n",
    "        print('No mutations detected')\n",
    "        return 0, 0\n",
    "    mut_probs = []\n",
    "    ev_ratios = []\n",
    "    current_support = -1\n",
    "    print('Mutations: ', mutations)\n",
    "    for mutation in mutations:\n",
    "        #Ignore insertions\n",
    "        if 'ins' not in mutation and 'del' not in mutation and \"X\" not in mutation:\n",
    "            #Split mutation \n",
    "            aa_orig = mutation[0]\n",
    "            aa_pos = int(mutation[1:-1]) - 1\n",
    "            aa_mut = mutation[-1]\n",
    "            if (seq[aa_pos] != aa_orig):\n",
    "                print(mutation)\n",
    "            assert(seq[aa_pos] == aa_orig)\n",
    "\n",
    "            #Get probabilities for changes\n",
    "            prob_change = word_pos_prob[(aa_mut, aa_pos)]\n",
    "            prob_original = word_pos_prob[(aa_orig, aa_pos)]\n",
    "            #Log probabilities to allow for subtraction\n",
    "            ev_ratio = prob_change - prob_original\n",
    "            ev_ratios.append(ev_ratio)\n",
    "\n",
    "            #Log probabilities to allow for sum rather than product\n",
    "            mut_probs.append(word_pos_prob[(aa_mut, aa_pos)])\n",
    "    return np.sum(mut_probs), np.sum(ev_ratios)"
   ]
  }
 ],
 "metadata": {
  "kernelspec": {
   "display_name": "Python3.7 evolocity_env",
   "language": "python",
   "name": "evolocity_env"
  },
  "language_info": {
   "codemirror_mode": {
    "name": "ipython",
    "version": 3
   },
   "file_extension": ".py",
   "mimetype": "text/x-python",
   "name": "python",
   "nbconvert_exporter": "python",
   "pygments_lexer": "ipython3",
   "version": "3.7.16"
  }
 },
 "nbformat": 4,
 "nbformat_minor": 5
}
