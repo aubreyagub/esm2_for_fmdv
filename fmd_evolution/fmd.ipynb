{
 "cells": [
  {
   "cell_type": "code",
   "execution_count": 1,
   "id": "36f66290-bf0c-4b00-89f3-6910ddf1d600",
   "metadata": {},
   "outputs": [
    {
     "name": "stderr",
     "output_type": "stream",
     "text": [
      "/home/ilmmbis/anaconda3/envs/evolocity_env/lib/python3.7/site-packages/tqdm/auto.py:21: TqdmWarning: IProgress not found. Please update jupyter and ipywidgets. See https://ipywidgets.readthedocs.io/en/stable/user_install.html\n",
      "  from .autonotebook import tqdm as notebook_tqdm\n"
     ]
    }
   ],
   "source": [
    "from protein_sequence import ProteinSequence\n",
    "from mutation_strategy import MutationStrategy, MinLogitPosSub\n",
    "import esm"
   ]
  },
  {
   "cell_type": "code",
   "execution_count": 2,
   "id": "67ca9067-138c-4624-9c5a-cf65650f6756",
   "metadata": {},
   "outputs": [],
   "source": [
    "# Source: https://github.com/facebookresearch/esm/tree/main?tab=readme-ov-file#esmfold\n",
    "model, alphabet = esm.pretrained.load_model_and_alphabet(\"esm2_t33_650M_UR50D\") \n",
    "batch_converter = alphabet.get_batch_converter()"
   ]
  },
  {
   "cell_type": "code",
   "execution_count": 3,
   "id": "b81ab390-7f7a-43c0-8f8c-89e80658b46a",
   "metadata": {},
   "outputs": [],
   "source": [
    "reference_seq = 'TTSAGESADPVTATVENYGGETQVQRRQHTDIAFILDRFVKVKPKEQVNVLDLMQIPAHTLVGALLRTATYYFSDLELAVKHEGDLTWVPNGAPETALDNTTNPTAYHKEPLTRLALPYTAPHRVLATVYNGSSKYGDTSTNNVRGDLQVLAQKAERTLPTSFNFGAIKATRVTELLYRMKRAETYCPRPLLAIQPSDARHKQRIVAPAKQ'"
   ]
  },
  {
   "cell_type": "code",
   "execution_count": 4,
   "id": "7192c314-1307-44f6-b773-7ae28b23c5c7",
   "metadata": {},
   "outputs": [],
   "source": [
    "mutation_strat = MinLogitPosSub(alphabet)\n",
    "fmd_seq = ProteinSequence(reference_seq)"
   ]
  },
  {
   "cell_type": "code",
   "execution_count": 5,
   "id": "038753b5-6332-499e-bb87-da704a05d9a6",
   "metadata": {},
   "outputs": [],
   "source": [
    "batch_tokens = fmd_seq.get_batch_tokens(\"base\",model,alphabet,batch_converter)\n",
    "all_logits = fmd_seq.get_all_logits(batch_tokens,model)\n",
    "current_seq_logits = fmd_seq.get_current_seq_logits(batch_tokens,all_logits)"
   ]
  },
  {
   "cell_type": "code",
   "execution_count": 6,
   "id": "5adccb2a-717a-454a-9aa1-66506aaa20b1",
   "metadata": {},
   "outputs": [
    {
     "name": "stdout",
     "output_type": "stream",
     "text": [
      "Invalid amino acid candidate for mutation as it is the same as the current amino acid: S>S\n",
      "Using the second best fit amino acid for this position: S>K\n"
     ]
    }
   ],
   "source": [
    "current_seq = fmd_seq.get_current_seq()\n",
    "pos,aa_char = mutation_strat.get_next_mutation(current_seq,all_logits,current_seq_logits)"
   ]
  },
  {
   "cell_type": "code",
   "execution_count": 7,
   "id": "cc1638f1-679a-455f-8417-d302862d033c",
   "metadata": {},
   "outputs": [
    {
     "name": "stdout",
     "output_type": "stream",
     "text": [
      "Invalid amino acid candidate for mutation as it is the same as the current amino acid: S>S\n",
      "Using the second best fit amino acid for this position: S>K\n",
      "Invalid amino acid candidate for mutation as it is the same as the current amino acid: N>N\n",
      "Using the second best fit amino acid for this position: N>T\n",
      "Invalid amino acid candidate for mutation as it is the same as the current amino acid: T>T\n",
      "Using the second best fit amino acid for this position: T>V\n",
      "Invalid amino acid candidate for mutation as it is the same as the current amino acid: T>T\n",
      "Using the second best fit amino acid for this position: T>N\n",
      "Invalid amino acid candidate for mutation as it is the same as the current amino acid: K>K\n",
      "Using the second best fit amino acid for this position: K>Q\n",
      "Invalid amino acid candidate for mutation as it is the same as the current amino acid: Q>Q\n",
      "Using the second best fit amino acid for this position: Q>A\n"
     ]
    }
   ],
   "source": [
    "steps = 6\n",
    "for i in range(steps):\n",
    "    batch_tokens = fmd_seq.get_batch_tokens(\"base\",model,alphabet,batch_converter)\n",
    "    all_logits = fmd_seq.get_all_logits(batch_tokens,model)\n",
    "    current_seq_logits = fmd_seq.get_current_seq_logits(batch_tokens,all_logits)\n",
    "    current_seq = fmd_seq.get_current_seq()\n",
    "    pos,aa_char = mutation_strat.get_next_mutation(current_seq,all_logits,current_seq_logits)\n",
    "    fmd_seq.mutate_seq(pos,aa_char)"
   ]
  }
 ],
 "metadata": {
  "kernelspec": {
   "display_name": "Python3.7 evolocity_env",
   "language": "python",
   "name": "evolocity_env"
  },
  "language_info": {
   "codemirror_mode": {
    "name": "ipython",
    "version": 3
   },
   "file_extension": ".py",
   "mimetype": "text/x-python",
   "name": "python",
   "nbconvert_exporter": "python",
   "pygments_lexer": "ipython3",
   "version": "3.7.16"
  }
 },
 "nbformat": 4,
 "nbformat_minor": 5
}
