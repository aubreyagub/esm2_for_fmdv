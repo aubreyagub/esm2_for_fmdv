{
 "cells": [
  {
   "cell_type": "code",
   "execution_count": 1,
   "id": "36f66290-bf0c-4b00-89f3-6910ddf1d600",
   "metadata": {},
   "outputs": [
    {
     "name": "stderr",
     "output_type": "stream",
     "text": [
      "/home/ilmmbis/anaconda3/envs/evolocity_env/lib/python3.7/site-packages/tqdm/auto.py:21: TqdmWarning: IProgress not found. Please update jupyter and ipywidgets. See https://ipywidgets.readthedocs.io/en/stable/user_install.html\n",
      "  from .autonotebook import tqdm as notebook_tqdm\n"
     ]
    }
   ],
   "source": [
    "from protein_sequence import ProteinSequence\n",
    "from mutation_strategy import MutationStrategy, MinLogitPosSub, BlosumWeightedSub\n",
    "from evolution import Evolution\n",
    "import esm\n",
    "from Bio.Align import substitution_matrices"
   ]
  },
  {
   "cell_type": "code",
   "execution_count": 2,
   "id": "67ca9067-138c-4624-9c5a-cf65650f6756",
   "metadata": {},
   "outputs": [],
   "source": [
    "# Source: https://github.com/facebookresearch/esm/tree/main?tab=readme-ov-file#esmfold\n",
    "model, alphabet = esm.pretrained.load_model_and_alphabet(\"esm2_t33_650M_UR50D\") \n",
    "batch_converter = alphabet.get_batch_converter()"
   ]
  },
  {
   "cell_type": "code",
   "execution_count": 3,
   "id": "b81ab390-7f7a-43c0-8f8c-89e80658b46a",
   "metadata": {},
   "outputs": [],
   "source": [
    "reference_seq = 'TTSAGESADPVTATVENYGGETQVQRRQHTDIAFILDRFVKVKPKEQVNVLDLMQIPAHTLVGALLRTATYYFSDLELAVKHEGDLTWVPNGAPETALDNTTNPTAYHKEPLTRLALPYTAPHRVLATVYNGSSKYGDTSTNNVRGDLQVLAQKAERTLPTSFNFGAIKATRVTELLYRMKRAETYCPRPLLAIQPSDARHKQRIVAPAKQ'"
   ]
  },
  {
   "cell_type": "code",
   "execution_count": 4,
   "id": "1a744be5-2265-4321-a0bb-717009bf6ef6",
   "metadata": {},
   "outputs": [
    {
     "name": "stdout",
     "output_type": "stream",
     "text": [
      "ESM alphabet: LAGVSERTIDPKQNFYMHWCXBUZO.-\n",
      "Blosum alphabet: 20\n"
     ]
    }
   ],
   "source": [
    "blosum80 = substitution_matrices.load(\"BLOSUM80\")\n",
    "print(f\"ESM alphabet: {''.join(alphabet.standard_toks)}\")\n",
    "print(f\"Blosum alphabet: {len(blosum80.alphabet[0:-4])}\")\n",
    "# blosum_alphabet_string = blosum62.alphabet\n",
    "# cleaned_blosum_alphabet = [char for char in blosum_alphabet_string if char in esm_alphabet_string]\n",
    "# cleaned_esm_alphabet = [char for char in esm_alphabet_string if char in blosum_alphabet_string]\n",
    "\n",
    "# blosum_20_alphabet = blosum62.alphabet[0:-5]\n",
    "# reference_alphabet = list(set(reference_seq))\n",
    "# print([char for char in esm_alphabet_string if char not in reference_alphabet])\n",
    "# print([char for char in blosum_20_alphabet  if char not in reference_alphabet])\n",
    "# set(reference_seq)"
   ]
  },
  {
   "cell_type": "code",
   "execution_count": 11,
   "id": "7192c314-1307-44f6-b773-7ae28b23c5c7",
   "metadata": {},
   "outputs": [],
   "source": [
    "blosum80 = substitution_matrices.load(\"BLOSUM80\")\n",
    "fmd_sequence = ProteinSequence(\"base\",reference_seq)\n",
    "mutation_strat = BlosumWeightedSub(alphabet=alphabet,blosum_matrix=blosum80,multiplier=0.5)\n",
    "evolution = Evolution(\n",
    "    protein_sequence = fmd_sequence,\n",
    "    mutation_strategy = mutation_strat,\n",
    "    model=model,\n",
    "    alphabet=alphabet,\n",
    "    batch_converter=batch_converter)"
   ]
  },
  {
   "cell_type": "code",
   "execution_count": 12,
   "id": "4e90ce5f-c502-472f-a32e-74b2fe5d5055",
   "metadata": {},
   "outputs": [
    {
     "name": "stdout",
     "output_type": "stream",
     "text": [
      "Invalid amino acid candidate for mutation as it is the same as the current amino acid: S>S\n",
      "Using the second best fit amino acid for this position: S>A\n",
      "Position mutated = 139\n",
      "Invalid amino acid candidate for mutation as it is the same as the current amino acid: A>A\n",
      "Using the second best fit amino acid for this position: A>Q\n",
      "Position mutated = 139\n",
      "Invalid amino acid candidate for mutation as it is the same as the current amino acid: T>T\n",
      "Using the second best fit amino acid for this position: T>V\n",
      "Position mutated = 140\n",
      "Invalid amino acid candidate for mutation as it is the same as the current amino acid: T>T\n",
      "Using the second best fit amino acid for this position: T>S\n",
      "Position mutated = 138\n",
      "Invalid amino acid candidate for mutation as it is the same as the current amino acid: S>S\n",
      "Using the second best fit amino acid for this position: S>A\n",
      "Position mutated = 138\n",
      "Invalid amino acid candidate for mutation as it is the same as the current amino acid: Q>Q\n",
      "Using the second best fit amino acid for this position: Q>K\n",
      "Position mutated = 139\n",
      "Invalid amino acid candidate for mutation as it is the same as the current amino acid: N>N\n",
      "Using the second best fit amino acid for this position: N>S\n",
      "Position mutated = 141\n",
      "Invalid amino acid candidate for mutation as it is the same as the current amino acid: K>K\n",
      "Using the second best fit amino acid for this position: K>R\n",
      "Position mutated = 139\n"
     ]
    }
   ],
   "source": [
    "evolution.evolve_sequence(steps=8) "
   ]
  },
  {
   "cell_type": "code",
   "execution_count": 7,
   "id": "1fc0a076-b296-46fe-8bad-48f78e645e43",
   "metadata": {},
   "outputs": [],
   "source": [
    "fmd_sequence = ProteinSequence(\"base\",reference_seq)\n",
    "mutation_strat = MinLogitPosSub(alphabet)\n",
    "evolution = Evolution(\n",
    "    protein_sequence = fmd_sequence,\n",
    "    mutation_strategy = mutation_strat,\n",
    "    model=model,\n",
    "    alphabet=alphabet,\n",
    "    batch_converter=batch_converter)"
   ]
  },
  {
   "cell_type": "code",
   "execution_count": 8,
   "id": "334e73fe-2cc3-499b-9e13-afa42fb74506",
   "metadata": {},
   "outputs": [
    {
     "name": "stdout",
     "output_type": "stream",
     "text": [
      "Invalid amino acid candidate for mutation as it is the same as the current amino acid: S>S\n",
      "Using the second best fit amino acid for this position: S>K\n",
      "Position mutated = 139\n",
      "Invalid amino acid candidate for mutation as it is the same as the current amino acid: N>N\n",
      "Using the second best fit amino acid for this position: N>T\n",
      "Position mutated = 141\n",
      "Invalid amino acid candidate for mutation as it is the same as the current amino acid: T>T\n",
      "Using the second best fit amino acid for this position: T>V\n",
      "Position mutated = 140\n",
      "Invalid amino acid candidate for mutation as it is the same as the current amino acid: T>T\n",
      "Using the second best fit amino acid for this position: T>N\n",
      "Position mutated = 138\n",
      "Invalid amino acid candidate for mutation as it is the same as the current amino acid: K>K\n",
      "Using the second best fit amino acid for this position: K>Q\n",
      "Position mutated = 139\n",
      "Invalid amino acid candidate for mutation as it is the same as the current amino acid: Q>Q\n",
      "Using the second best fit amino acid for this position: Q>A\n",
      "Position mutated = 139\n",
      "Invalid amino acid candidate for mutation as it is the same as the current amino acid: A>A\n",
      "Using the second best fit amino acid for this position: A>Q\n",
      "Position mutated = 139\n",
      "Invalid amino acid candidate for mutation as it is the same as the current amino acid: Q>Q\n",
      "Using the second best fit amino acid for this position: Q>A\n",
      "Position mutated = 139\n"
     ]
    }
   ],
   "source": [
    "evolution.evolve_sequence(steps=8)   "
   ]
  },
  {
   "cell_type": "code",
   "execution_count": null,
   "id": "4d2df377-5724-4c5f-9fe7-ecb22028afd4",
   "metadata": {},
   "outputs": [],
   "source": []
  }
 ],
 "metadata": {
  "kernelspec": {
   "display_name": "Python3.7 evolocity_env",
   "language": "python",
   "name": "evolocity_env"
  },
  "language_info": {
   "codemirror_mode": {
    "name": "ipython",
    "version": 3
   },
   "file_extension": ".py",
   "mimetype": "text/x-python",
   "name": "python",
   "nbconvert_exporter": "python",
   "pygments_lexer": "ipython3",
   "version": "3.7.16"
  }
 },
 "nbformat": 4,
 "nbformat_minor": 5
}
