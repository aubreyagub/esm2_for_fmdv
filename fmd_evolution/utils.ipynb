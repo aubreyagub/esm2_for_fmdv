{
 "cells": [
  {
   "cell_type": "code",
   "execution_count": 1,
   "id": "bfef29bd-ba99-4a03-a56a-8b5de38ff26c",
   "metadata": {},
   "outputs": [
    {
     "name": "stderr",
     "output_type": "stream",
     "text": [
      "/home/ilmmbis/anaconda3/envs/evolocity_env/lib/python3.7/site-packages/tqdm/auto.py:21: TqdmWarning: IProgress not found. Please update jupyter and ipywidgets. See https://ipywidgets.readthedocs.io/en/stable/user_install.html\n",
      "  from .autonotebook import tqdm as notebook_tqdm\n"
     ]
    }
   ],
   "source": [
    "import unittest\n",
    "import torch\n",
    "import esm\n",
    "from tqdm import tqdm # for progress bar"
   ]
  },
  {
   "cell_type": "code",
   "execution_count": 2,
   "id": "685a3a04-8aea-4590-aa93-9e26578fe55c",
   "metadata": {},
   "outputs": [],
   "source": [
    "# Source: https://github.com/facebookresearch/esm/tree/main?tab=readme-ov-file#esmfold\n",
    "model, alphabet = esm.pretrained.load_model_and_alphabet(\"esm2_t33_650M_UR50D\") \n",
    "batch_converter = alphabet.get_batch_converter()"
   ]
  },
  {
   "cell_type": "code",
   "execution_count": 3,
   "id": "5e98afcd-89f8-465e-858c-cf09438374a4",
   "metadata": {},
   "outputs": [
    {
     "name": "stdout",
     "output_type": "stream",
     "text": [
      "['<cls>', '<pad>', '<eos>', '<unk>', 'L', 'A', 'G', 'V', 'S', 'E', 'R', 'T', 'I', 'D', 'P', 'K', 'Q', 'N', 'F', 'Y', 'M', 'H', 'W', 'C', 'X', 'B', 'U', 'Z', 'O', '.', '-', '<null_1>', '<mask>']\n"
     ]
    }
   ],
   "source": [
    "print(alphabet.all_toks)"
   ]
  },
  {
   "cell_type": "code",
   "execution_count": 4,
   "id": "bd3e9461-258f-49d8-aa73-9d31bcf8fa72",
   "metadata": {},
   "outputs": [],
   "source": [
    "def get_tokens(id,seq,model=model,alphabet=alphabet,batch_converter=batch_converter):\n",
    "    data = [(id,seq)]\n",
    "    batch_labels, batch_strs, batch_tokens = batch_converter(data)\n",
    "    batch_len = (batch_tokens != alphabet.padding_idx).sum(1)[0]\n",
    "    return batch_tokens, batch_len"
   ]
  },
  {
   "cell_type": "code",
   "execution_count": 5,
   "id": "ca1acc0e-e3fb-4fcb-9414-a8d17dcf7ca8",
   "metadata": {},
   "outputs": [],
   "source": [
    "def get_logit_scores(batch_tokens,ln,start_pos=138, end_pos=143,model=model,):\n",
    "    if torch.cuda.is_available():\n",
    "        batch_tokens = batch_tokens.to(device=device, non_blocking=True)\n",
    "\n",
    "    with torch.no_grad():\n",
    "        logits_raw = model(batch_tokens)[\"logits\"].squeeze(0)\n",
    "        logits_target = logits_raw [1:(ln+1),4:24]\n",
    "\n",
    "    # normalise logits to convert to probabilities \n",
    "    lsoftmax = torch.nn.LogSoftmax(dim=1)\n",
    "    logits = lsoftmax(logits_target)\n",
    "\n",
    "    return logits"
   ]
  },
  {
   "cell_type": "code",
   "execution_count": 6,
   "id": "c518e4c9-9bcd-45f7-926c-ce1b67209849",
   "metadata": {},
   "outputs": [],
   "source": [
    "def get_most_likely_mutation(logits,ref_logits,ref_seq,strategy=\"lc_pos_hc_aa\",start_pos=138,end_pos=143,top_position=0):\n",
    "    strategies = {\n",
    "        \"lc_pos_hc_aa\" : lc_pos_hc_aa_strategy\n",
    "    }\n",
    "    return strategies[strategy](logits,ref_logits,ref_seq,start_pos,end_pos)\n",
    "    \n",
    "def index_to_char(aa,alphabet=alphabet,token_offset=4):\n",
    "    return alphabet.all_toks[aa+token_offset]\n",
    "\n",
    "def get_aa_char(ref_seq,pos,aa):\n",
    "    ref_aa = list(ref_seq)[pos]\n",
    "    aa_char = index_to_char(aa)\n",
    "    if ref_aa!=aa_char:\n",
    "        print(\"The top amino acid candidate for mutation is valid for this position: {ref_aa}>{aa_char}\")\n",
    "        return aa_char\n",
    "    else:\n",
    "        print(\"Invalid amino acid candidate for mutation as it is the same as the current amino acid: {ref_aa}>{aa_char}\")\n",
    "        return None"
   ]
  },
  {
   "cell_type": "code",
   "execution_count": 7,
   "id": "5547d5ea-4b2d-4b7e-af53-c5ebd40fabca",
   "metadata": {},
   "outputs": [],
   "source": [
    "# Strategy 1: Least confident position, most confident amino acid\n",
    "    # find position with lowest logit for current amino acid\n",
    "    # at that position, find amino acid with highest logit\n",
    "    # if current aa != aa with highest logit, mutate\n",
    "    # else, \n",
    "        # if next highest aa logit > mutate\n",
    "        # else, find next lowest logit aa\n",
    "def lc_pos_hc_aa_strategy(logits,ref_logits,ref_seq,start_pos,end_pos):\n",
    "    positions_of_interest_logits = logits[start_pos:end_pos+1,:]\n",
    "    positions_of_interest_ref_logits = ref_logits[start_pos:end_pos+1]\n",
    "\n",
    "    least_confident_pos = np.argmin(positions_of_interest_ref_logits)\n",
    "    adjusted_pos_index = (least_confident_pos+start_pos).item()\n",
    "    \n",
    "    least_confident_pos_logits = positions_of_interest_logits[least_confident_pos]\n",
    "    top_2_least_conf_pos = np.argsort(least_confident_pos_logits.numpy())[-2:][::-1] # top 2 in case new aa is current aa\n",
    "    most_confident_aa_pos = top_2_least_conf_pos[0]\n",
    "    aa_char = get_aa_char(ref_seq,adjusted_pos_index,most_confident_aa_pos)\n",
    "    if not aa_char:\n",
    "        print(\"Using the second best fit amino acid for this position.\")\n",
    "        second_most_confident_aa_pos = top_2_least_conf_pos[1]\n",
    "        aa_char = index_to_char(second_most_confident_aa_pos)\n",
    "        \n",
    "    return adjusted_pos_index,aa_char\n",
    "\n",
    "# Strategy 2: Most confident amino acid \n",
    "    # find amino acid with highest logit across all positions\n",
    "    # if in same position, current aa != aa with highest position, mutate\n",
    "    # else, find next highest logit aa\n",
    "\n",
    "# Strategy 3: Most likely to mutate position, most confident amino acid\n",
    "    # find position with highest number of aa logits above a threshold \n",
    "    # at that positon, find amino acid with highest logit\n",
    "    # if current aa != aa with highest logit, mutate\n",
    "    # else, \n",
    "        # if next highest aa logit > (next most likely to mutate pos's highest aa logit && current aa != aa with highest logit), mutate\n",
    "        # else, find next most likely to mutate pos"
   ]
  },
  {
   "cell_type": "code",
   "execution_count": 8,
   "id": "32ae2115-900f-4b6d-af3e-3370c5054c37",
   "metadata": {},
   "outputs": [],
   "source": [
    "def mutate_seq(reference_seq,pos,aa):\n",
    "    list_seq = list(reference_seq)\n",
    "    list_seq[pos] = aa\n",
    "    return \"\".join(list_seq)"
   ]
  },
  {
   "cell_type": "code",
   "execution_count": 9,
   "id": "f55a8eda-410f-4d6f-be23-88c65e334932",
   "metadata": {},
   "outputs": [],
   "source": [
    "# Network class\n",
    "# def add_seq(seq):\n",
    "#     return "
   ]
  },
  {
   "cell_type": "code",
   "execution_count": 10,
   "id": "5496704e-26c9-46e8-a887-dfde8d6a1780",
   "metadata": {},
   "outputs": [],
   "source": [
    "# Sequence class\n",
    "# from Bio.SeqRecord import SeqRecord"
   ]
  }
 ],
 "metadata": {
  "kernelspec": {
   "display_name": "Python3.7 evolocity_env",
   "language": "python",
   "name": "evolocity_env"
  },
  "language_info": {
   "codemirror_mode": {
    "name": "ipython",
    "version": 3
   },
   "file_extension": ".py",
   "mimetype": "text/x-python",
   "name": "python",
   "nbconvert_exporter": "python",
   "pygments_lexer": "ipython3",
   "version": "3.7.16"
  }
 },
 "nbformat": 4,
 "nbformat_minor": 5
}
