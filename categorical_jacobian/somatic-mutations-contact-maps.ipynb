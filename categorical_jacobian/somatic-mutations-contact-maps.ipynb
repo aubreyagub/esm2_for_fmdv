{
 "cells": [
  {
   "cell_type": "markdown",
   "id": "b74b4dd1-f687-4ed7-a2f9-43ce2cefa5b6",
   "metadata": {},
   "source": [
    "# Generating Contact Maps of Somatic Mutations"
   ]
  },
  {
   "cell_type": "code",
   "execution_count": 6,
   "id": "0a56250e-a13c-45d9-bd6b-7a439669b1bf",
   "metadata": {},
   "outputs": [],
   "source": [
    "# symbol : [sequence,]\n",
    "# well_typed_proteins = {\n",
    "#     \"RASK\":\"P01116\", # https://www.uniprot.org/uniprotkb/P01116/entry#sequences # \"4OBE\"\n",
    "#     \"TP53\":\"P04637\", # https://www.uniprot.org/uniprotkb/P04637/entry#sequences \"2OCJ\"\n",
    "#     \"AKT1\":\"P31749\", # https://www.uniprot.org/uniprotkb/P31749/entry#sequences # \"1UNQ\"\n",
    "#     \"RB1\":\"P06400\", # https://www.uniprot.org/uniprotkb/P06400/entry#sequences  \"4ELJ\"\n",
    "#     \"BAD\":\"Q92934\" # https://www.uniprot.org/uniprotkb/Q92934/entry#sequences \"1MAZ\"\n",
    "# }\n",
    "\n",
    "# symbol : {missense mutation : sequence,structure}\n",
    "most_common_somatic_mutations = {\n",
    "        \"RASK\":[\"G12D\",\"G12V\",\"G13D\"], # https://portal.gdc.cancer.gov/genes/ENSG00000133703\n",
    "        \"TP53\":[\"R175H\", \"R248Q\", \"R273C\"], # https://portal.gdc.cancer.gov/genes/ENSG00000141510\n",
    "        \"AKT1\":[\"E17K\", \"E40K\", \"W80R\"], # https://portal.gdc.cancer.gov/genes/ENSG00000142208\n",
    "        \"RB1\":[], # no missense mutation in most common somatic mutations, https://portal.gdc.cancer.gov/genes/ENSG00000139687 \n",
    "        \"BAD\":[\"G136D\", \"M117I\", \"G62E\"], # https://portal.gdc.cancer.gov/genes/ENSG00000002330\n",
    "    }"
   ]
  },
  {
   "cell_type": "code",
   "execution_count": 9,
   "id": "73724046-65cf-4072-9436-fcecad4f7c55",
   "metadata": {},
   "outputs": [],
   "source": [
    "%run utils.ipynb\n",
    "folder_path = \"uniprot_sequences\"\n",
    "all_data,lengths = process_uniprot_folder(folder_path) # data: (id,seq,symbol)\n",
    "original_sequences = {symbol:(id,seq) for (id,seq,symbol) in all_data}\n",
    "print(original_sequences)"
   ]
  },
  {
   "cell_type": "code",
   "execution_count": 12,
   "id": "35d67cca-5a90-4488-8e6d-2b8433604cd2",
   "metadata": {},
   "outputs": [
    {
     "name": "stdout",
     "output_type": "stream",
     "text": [
      "{'RASK': [('G12D', 'MSDVAIVKEGWLHKRGEYIKTWRPRYFLLKNDGTFIGYKERPQDVDQREAPLNNFSVAQCQLMKTERPRPNTFIIRCLQRTTVIERTFHVETPEEREEWTTAIQTVADGLKKQEEEEMDFRSGSPSDNSGAEEMEVSLAKPKHRVTMNEFEYLKLLGKGTFGKVILVKEKATGRYYAMKILKKEVIVAKDEVAHTLTENRVLQNSRHPFLTALKYSFQTHDRLCFVMEYANGGELFFHLSRERVFSEDRARFYGAEIVSALDYLHSEKNVVYRDLKLENLMLDKDGHIKITDFGLCKEGIKDGATMKTFCGTPEYLAPEVLEDNDYGRAVDWWGLGVVMYEMMCGRLPFYNQDHEKLFELILMEEIRFPRTLGPEAKSLLSGLLKKDPKQRLGGGSEDAKEIMQHRFFAGIVWQHVYEKKLSPPFKPQVTSETDTRYFDEEFTAQMITITPPDQDDSMECVDSERRPHFPQFSYSASGTA'), ('G12V', 'MSDVAIVKEGWLHKRGEYIKTWRPRYFLLKNDGTFIGYKERPQDVDQREAPLNNFSVAQCQLMKTERPRPNTFIIRCLQRTTVIERTFHVETPEEREEWTTAIQTVADGLKKQEEEEMDFRSGSPSDNSGAEEMEVSLAKPKHRVTMNEFEYLKLLGKGTFGKVILVKEKATGRYYAMKILKKEVIVAKDEVAHTLTENRVLQNSRHPFLTALKYSFQTHDRLCFVMEYANGGELFFHLSRERVFSEDRARFYGAEIVSALDYLHSEKNVVYRDLKLENLMLDKDGHIKITDFGLCKEGIKDGATMKTFCGTPEYLAPEVLEDNDYGRAVDWWGLGVVMYEMMCGRLPFYNQDHEKLFELILMEEIRFPRTLGPEAKSLLSGLLKKDPKQRLGGGSEDAKEIMQHRFFAGIVWQHVYEKKLSPPFKPQVTSETDTRYFDEEFTAQMITITPPDQDDSMECVDSERRPHFPQFSYSASGTA'), ('G13D', 'MSDVAIVKEGWLHKRGEYIKTWRPRYFLLKNDGTFIGYKERPQDVDQREAPLNNFSVAQCQLMKTERPRPNTFIIRCLQRTTVIERTFHVETPEEREEWTTAIQTVADGLKKQEEEEMDFRSGSPSDNSGAEEMEVSLAKPKHRVTMNEFEYLKLLGKGTFGKVILVKEKATGRYYAMKILKKEVIVAKDEVAHTLTENRVLQNSRHPFLTALKYSFQTHDRLCFVMEYANGGELFFHLSRERVFSEDRARFYGAEIVSALDYLHSEKNVVYRDLKLENLMLDKDGHIKITDFGLCKEGIKDGATMKTFCGTPEYLAPEVLEDNDYGRAVDWWGLGVVMYEMMCGRLPFYNQDHEKLFELILMEEIRFPRTLGPEAKSLLSGLLKKDPKQRLGGGSEDAKEIMQHRFFAGIVWQHVYEKKLSPPFKPQVTSETDTRYFDEEFTAQMITITPPDQDDSMECVDSERRPHFPQFSYSASGTA')], 'AKT1': [('E17K', 'MSDVAIVKEGWLHKRGEYIKTWRPRYFLLKNDGTFIGYKERPQDVDQREAPLNNFSVAQCQLMKTERPRPNTFIIRCLQRTTVIERTFHVETPEEREEWTTAIQTVADGLKKQEEEEMDFRSGSPSDNSGAEEMEVSLAKPKHRVTMNEFEYLKLLGKGTFGKVILVKEKATGRYYAMKILKKEVIVAKDEVAHTLTENRVLQNSRHPFLTALKYSFQTHDRLCFVMEYANGGELFFHLSRERVFSEDRARFYGAEIVSALDYLHSEKNVVYRDLKLENLMLDKDGHIKITDFGLCKEGIKDGATMKTFCGTPEYLAPEVLEDNDYGRAVDWWGLGVVMYEMMCGRLPFYNQDHEKLFELILMEEIRFPRTLGPEAKSLLSGLLKKDPKQRLGGGSEDAKEIMQHRFFAGIVWQHVYEKKLSPPFKPQVTSETDTRYFDEEFTAQMITITPPDQDDSMECVDSERRPHFPQFSYSASGTA'), ('E40K', 'MSDVAIVKEGWLHKRGEYIKTWRPRYFLLKNDGTFIGYKERPQDVDQREAPLNNFSVAQCQLMKTERPRPNTFIIRCLQRTTVIERTFHVETPEEREEWTTAIQTVADGLKKQEEEEMDFRSGSPSDNSGAEEMEVSLAKPKHRVTMNEFEYLKLLGKGTFGKVILVKEKATGRYYAMKILKKEVIVAKDEVAHTLTENRVLQNSRHPFLTALKYSFQTHDRLCFVMEYANGGELFFHLSRERVFSEDRARFYGAEIVSALDYLHSEKNVVYRDLKLENLMLDKDGHIKITDFGLCKEGIKDGATMKTFCGTPEYLAPEVLEDNDYGRAVDWWGLGVVMYEMMCGRLPFYNQDHEKLFELILMEEIRFPRTLGPEAKSLLSGLLKKDPKQRLGGGSEDAKEIMQHRFFAGIVWQHVYEKKLSPPFKPQVTSETDTRYFDEEFTAQMITITPPDQDDSMECVDSERRPHFPQFSYSASGTA'), ('W80R', 'MSDVAIVKEGWLHKRGEYIKTWRPRYFLLKNDGTFIGYKERPQDVDQREAPLNNFSVAQCQLMKTERPRPNTFIIRCLQRTTVIERTFHVETPEEREEWTTAIQTVADGLKKQEEEEMDFRSGSPSDNSGAEEMEVSLAKPKHRVTMNEFEYLKLLGKGTFGKVILVKEKATGRYYAMKILKKEVIVAKDEVAHTLTENRVLQNSRHPFLTALKYSFQTHDRLCFVMEYANGGELFFHLSRERVFSEDRARFYGAEIVSALDYLHSEKNVVYRDLKLENLMLDKDGHIKITDFGLCKEGIKDGATMKTFCGTPEYLAPEVLEDNDYGRAVDWWGLGVVMYEMMCGRLPFYNQDHEKLFELILMEEIRFPRTLGPEAKSLLSGLLKKDPKQRLGGGSEDAKEIMQHRFFAGIVWQHVYEKKLSPPFKPQVTSETDTRYFDEEFTAQMITITPPDQDDSMECVDSERRPHFPQFSYSASGTA')]}\n"
     ]
    }
   ],
   "source": [
    "# generate mutated sequences\n",
    "mutated_sequences = {}\n",
    "for (id,seq,symbol) in all_data:\n",
    "    mutations = most_common_somatic_mutations[symbol]\n",
    "    for mutation in mutations:\n",
    "        if symbol not in mutated_sequences:\n",
    "            mutated_sequences[symbol] = [] # add protein\n",
    "        mutated_sequences[symbol].append((mutation,mutated_seq,)) # update list of mutations\n",
    "print(mutated_sequences)"
   ]
  },
  {
   "cell_type": "code",
   "execution_count": null,
   "id": "23aac0b9-d32d-4d03-b744-701a0a54de21",
   "metadata": {},
   "outputs": [],
   "source": [
    "# Source: https://github.com/facebookresearch/esm/tree/main?tab=readme-ov-file#esmfold\n",
    "model, alphabet = torch.hub.load(\"facebookresearch/esm:main\", \"esm2_t33_650M_UR50D\")\n",
    "batch_converter = alphabet.get_batch_converter()"
   ]
  },
  {
   "cell_type": "code",
   "execution_count": null,
   "id": "e39c6ee4-8a0f-4f96-8bad-6e3fc37eae3f",
   "metadata": {},
   "outputs": [],
   "source": [
    "# generate contact maps via categorical jacobian\n",
    "cjs = {}\n",
    "#3. Calculate the categorical jacobian for each protein sequence\n",
    "def get_cj_by_symbol(symbol):\n",
    "    protein = original_sequences[symbol]\n",
    "    # ∂in/∂out\n",
    "    x = batch_converter([protein])[-1] \n",
    "    ln = lengths[i] \n",
    "    cj = get_categorical_jacobian(x,ln,model)\n",
    "    # add protein with its corresponding categorical jacobian to dict\n",
    "    cjs[protein[0]]=cj\n",
    " get_cj_by_symbol(\"RASK\")"
   ]
  }
 ],
 "metadata": {
  "kernelspec": {
   "display_name": "Python 3 (ipykernel)",
   "language": "python",
   "name": "python3"
  },
  "language_info": {
   "codemirror_mode": {
    "name": "ipython",
    "version": 3
   },
   "file_extension": ".py",
   "mimetype": "text/x-python",
   "name": "python",
   "nbconvert_exporter": "python",
   "pygments_lexer": "ipython3",
   "version": "3.11.1"
  }
 },
 "nbformat": 4,
 "nbformat_minor": 5
}
