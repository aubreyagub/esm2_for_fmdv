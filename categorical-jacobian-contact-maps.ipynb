{
 "cells": [
  {
   "cell_type": "markdown",
   "id": "65f32ce0-3b7c-4ef9-8f55-17be0f052368",
   "metadata": {},
   "source": [
    "## Generating Contact Maps from the Categorical Jacobian of the Protein Language Model ESM-2"
   ]
  },
  {
   "cell_type": "markdown",
   "id": "89c102a3-6bd6-4525-9592-dfbf0fada99b",
   "metadata": {},
   "source": [
    "1. set up ESM-2 protein language model \n",
    "2. process input data (FASTA files)\n",
    "3. calculate the categorical jacobian for each protein sequence\n",
    "    a. Tokenise the amino acid sequence, with padding (x)\n",
    "    b. Get the length of the sequence (ln)\n",
    "    c. At every position in the sequence (ln), create a matrix of all possible token sequences when the amino acid at this position is mutated\n",
    "        Feed all tokenised sequences into the model, and extract the output logits \n",
    "        > Note that each of these matrices will represent the likelihood that each possible amino acid will be present in this position (*difference) \n",
    "4. Condense the resulting LxAxLxA jacobian to an LxL matrix to produce the contact map prediction for the protein "
   ]
  },
  {
   "cell_type": "code",
   "execution_count": 8,
   "id": "8355863e-4102-4f76-9c3f-90203ece7593",
   "metadata": {},
   "outputs": [],
   "source": [
    "#%pip install matplotlib\n",
    "%run utils.ipynb"
   ]
  },
  {
   "cell_type": "code",
   "execution_count": 9,
   "id": "8d005530-9e26-40ad-b734-9f2fba960e7f",
   "metadata": {},
   "outputs": [],
   "source": [
    "#1. Set up ESM-2 Protein Language Model"
   ]
  },
  {
   "cell_type": "code",
   "execution_count": 10,
   "id": "14750d37-7603-418b-aea9-ae13a3c3783a",
   "metadata": {},
   "outputs": [
    {
     "name": "stderr",
     "output_type": "stream",
     "text": [
      "Using cache found in C:\\Users\\aguba/.cache\\torch\\hub\\facebookresearch_esm_main\n"
     ]
    }
   ],
   "source": [
    "# Source: https://github.com/facebookresearch/esm/tree/main?tab=readme-ov-file#esmfold\n",
    "model, alphabet = torch.hub.load(\"facebookresearch/esm:main\", \"esm2_t33_650M_UR50D\")"
   ]
  },
  {
   "cell_type": "code",
   "execution_count": 4,
   "id": "56852795-f1f5-4149-909d-82df6c899972",
   "metadata": {},
   "outputs": [],
   "source": [
    "batch_converter = alphabet.get_batch_converter()\n",
    "# model.eval() "
   ]
  },
  {
   "cell_type": "code",
   "execution_count": 5,
   "id": "2c34d379-ffd3-4ac1-b9dc-b654223379b4",
   "metadata": {},
   "outputs": [],
   "source": [
    "#2. Process input data (FASTA files)"
   ]
  },
  {
   "cell_type": "code",
   "execution_count": 15,
   "id": "475270d0-8f34-4a88-929e-ede951ca6ec1",
   "metadata": {},
   "outputs": [
    {
     "name": "stdout",
     "output_type": "stream",
     "text": [
      "[('P01116', 'MTEYKLVVVGAGGVGKSALTIQLIQNHFVDEYDPTIEDSYRKQVVIDGETCLLDILDTAGQEEYSAMRDQYMRTGEGFLCVFAINNTKSFEDIHHYREQIKRVKDSEDVPMVLVGNKCDLPSRTVDTKQAQDLARSYGIPFIETSAKTRQRVEDAFYTLVREIRQYRLKKISKEEKTPGCVKIKKCIIM'), ('P31749', 'MSDVAIVKEGWLHKRGEYIKTWRPRYFLLKNDGTFIGYKERPQDVDQREAPLNNFSVAQCQLMKTERPRPNTFIIRCLQWTTVIERTFHVETPEEREEWTTAIQTVADGLKKQEEEEMDFRSGSPSDNSGAEEMEVSLAKPKHRVTMNEFEYLKLLGKGTFGKVILVKEKATGRYYAMKILKKEVIVAKDEVAHTLTENRVLQNSRHPFLTALKYSFQTHDRLCFVMEYANGGELFFHLSRERVFSEDRARFYGAEIVSALDYLHSEKNVVYRDLKLENLMLDKDGHIKITDFGLCKEGIKDGATMKTFCGTPEYLAPEVLEDNDYGRAVDWWGLGVVMYEMMCGRLPFYNQDHEKLFELILMEEIRFPRTLGPEAKSLLSGLLKKDPKQRLGGGSEDAKEIMQHRFFAGIVWQHVYEKKLSPPFKPQVTSETDTRYFDEEFTAQMITITPPDQDDSMECVDSERRPHFPQFSYSASGTA')]\n"
     ]
    }
   ],
   "source": [
    "folder_path = \"uniprot_sequences\"\n",
    "all_data,lengths = process_uniprot_folder(folder_path)\n",
    "data = [(protein[0],protein[1]) for protein in all_data] # get id and sequence only\n",
    "print(data)"
   ]
  },
  {
   "cell_type": "code",
   "execution_count": 17,
   "id": "34b54e6e-b39f-4913-a924-c9457a26ea9e",
   "metadata": {},
   "outputs": [
    {
     "name": "stderr",
     "output_type": "stream",
     "text": [
      "  0%|                                                                                          | 0/480 [51:32<?, ?it/s]\n"
     ]
    },
    {
     "ename": "KeyboardInterrupt",
     "evalue": "",
     "output_type": "error",
     "traceback": [
      "\u001b[1;31m---------------------------------------------------------------------------\u001b[0m",
      "\u001b[1;31mKeyboardInterrupt\u001b[0m                         Traceback (most recent call last)",
      "Cell \u001b[1;32mIn[17], line 11\u001b[0m\n\u001b[0;32m      9\u001b[0m     \u001b[38;5;66;03m# add protein with its corresponding categorical jacobian to dict\u001b[39;00m\n\u001b[0;32m     10\u001b[0m     cjs[protein[\u001b[38;5;241m0\u001b[39m]]\u001b[38;5;241m=\u001b[39mcj\n\u001b[1;32m---> 11\u001b[0m \u001b[43mget_cj_by_index\u001b[49m\u001b[43m(\u001b[49m\u001b[38;5;241;43m1\u001b[39;49m\u001b[43m)\u001b[49m \u001b[38;5;66;03m# 2M7D\u001b[39;00m\n",
      "Cell \u001b[1;32mIn[17], line 8\u001b[0m, in \u001b[0;36mget_cj_by_index\u001b[1;34m(i)\u001b[0m\n\u001b[0;32m      6\u001b[0m x \u001b[38;5;241m=\u001b[39m batch_converter([protein])[\u001b[38;5;241m-\u001b[39m\u001b[38;5;241m1\u001b[39m] \n\u001b[0;32m      7\u001b[0m ln \u001b[38;5;241m=\u001b[39m lengths[i] \n\u001b[1;32m----> 8\u001b[0m cj \u001b[38;5;241m=\u001b[39m \u001b[43mget_categorical_jacobian\u001b[49m\u001b[43m(\u001b[49m\u001b[43mx\u001b[49m\u001b[43m,\u001b[49m\u001b[43mln\u001b[49m\u001b[43m,\u001b[49m\u001b[43mmodel\u001b[49m\u001b[43m)\u001b[49m\n\u001b[0;32m      9\u001b[0m \u001b[38;5;66;03m# add protein with its corresponding categorical jacobian to dict\u001b[39;00m\n\u001b[0;32m     10\u001b[0m cjs[protein[\u001b[38;5;241m0\u001b[39m]]\u001b[38;5;241m=\u001b[39mcj\n",
      "File \u001b[1;32m~\\AppData\\Local\\Temp\\ipykernel_33564\\3384969029.py:13\u001b[0m, in \u001b[0;36mget_categorical_jacobian\u001b[1;34m(x, ln, model, device)\u001b[0m\n\u001b[0;32m     11\u001b[0m       x_h \u001b[38;5;241m=\u001b[39m torch\u001b[38;5;241m.\u001b[39mclone(x)\n\u001b[0;32m     12\u001b[0m       x_h[:,n\u001b[38;5;241m+\u001b[39m\u001b[38;5;241m1\u001b[39m] \u001b[38;5;241m=\u001b[39m torch\u001b[38;5;241m.\u001b[39marange(\u001b[38;5;241m4\u001b[39m,\u001b[38;5;241m24\u001b[39m) \u001b[38;5;66;03m# mutate to all 20 aa\u001b[39;00m\n\u001b[1;32m---> 13\u001b[0m       fx_h[n] \u001b[38;5;241m=\u001b[39m \u001b[43mf\u001b[49m\u001b[43m(\u001b[49m\u001b[43mx_h\u001b[49m\u001b[43m)\u001b[49m\n\u001b[0;32m     14\u001b[0m     pbar\u001b[38;5;241m.\u001b[39mupdate(\u001b[38;5;241m1\u001b[39m)\n\u001b[0;32m     15\u001b[0m \u001b[38;5;28;01mreturn\u001b[39;00m fx_h \u001b[38;5;241m-\u001b[39m fx\n",
      "File \u001b[1;32m~\\AppData\\Local\\Temp\\ipykernel_33564\\3384969029.py:5\u001b[0m, in \u001b[0;36mget_categorical_jacobian.<locals>.<lambda>\u001b[1;34m(x)\u001b[0m\n\u001b[0;32m      2\u001b[0m \u001b[38;5;28;01mdef\u001b[39;00m \u001b[38;5;21mget_categorical_jacobian\u001b[39m(x,ln,model,device\u001b[38;5;241m=\u001b[39m\u001b[38;5;124m'\u001b[39m\u001b[38;5;124mcpu\u001b[39m\u001b[38;5;124m'\u001b[39m):\n\u001b[0;32m      3\u001b[0m   \u001b[38;5;66;03m# ∂in/∂out\u001b[39;00m\n\u001b[0;32m      4\u001b[0m   \u001b[38;5;28;01mwith\u001b[39;00m torch\u001b[38;5;241m.\u001b[39mno_grad():\n\u001b[1;32m----> 5\u001b[0m     f \u001b[38;5;241m=\u001b[39m \u001b[38;5;28;01mlambda\u001b[39;00m x: \u001b[43mmodel\u001b[49m\u001b[43m(\u001b[49m\u001b[43mx\u001b[49m\u001b[43m)\u001b[49m[\u001b[38;5;124m\"\u001b[39m\u001b[38;5;124mlogits\u001b[39m\u001b[38;5;124m\"\u001b[39m][\u001b[38;5;241m.\u001b[39m\u001b[38;5;241m.\u001b[39m\u001b[38;5;241m.\u001b[39m,\u001b[38;5;241m1\u001b[39m:(ln\u001b[38;5;241m+\u001b[39m\u001b[38;5;241m1\u001b[39m),\u001b[38;5;241m4\u001b[39m:\u001b[38;5;241m24\u001b[39m]\u001b[38;5;241m.\u001b[39mcpu()\u001b[38;5;241m.\u001b[39mnumpy()\n\u001b[0;32m      6\u001b[0m     fx \u001b[38;5;241m=\u001b[39m f(x\u001b[38;5;241m.\u001b[39mto(device))[\u001b[38;5;241m0\u001b[39m]\n\u001b[0;32m      7\u001b[0m     x \u001b[38;5;241m=\u001b[39m torch\u001b[38;5;241m.\u001b[39mtile(x,[\u001b[38;5;241m20\u001b[39m,\u001b[38;5;241m1\u001b[39m])\u001b[38;5;241m.\u001b[39mto(device)\n",
      "File \u001b[1;32m~\\AppData\\Local\\Programs\\Python\\Python311\\Lib\\site-packages\\torch\\nn\\modules\\module.py:1501\u001b[0m, in \u001b[0;36mModule._call_impl\u001b[1;34m(self, *args, **kwargs)\u001b[0m\n\u001b[0;32m   1496\u001b[0m \u001b[38;5;66;03m# If we don't have any hooks, we want to skip the rest of the logic in\u001b[39;00m\n\u001b[0;32m   1497\u001b[0m \u001b[38;5;66;03m# this function, and just call forward.\u001b[39;00m\n\u001b[0;32m   1498\u001b[0m \u001b[38;5;28;01mif\u001b[39;00m \u001b[38;5;129;01mnot\u001b[39;00m (\u001b[38;5;28mself\u001b[39m\u001b[38;5;241m.\u001b[39m_backward_hooks \u001b[38;5;129;01mor\u001b[39;00m \u001b[38;5;28mself\u001b[39m\u001b[38;5;241m.\u001b[39m_backward_pre_hooks \u001b[38;5;129;01mor\u001b[39;00m \u001b[38;5;28mself\u001b[39m\u001b[38;5;241m.\u001b[39m_forward_hooks \u001b[38;5;129;01mor\u001b[39;00m \u001b[38;5;28mself\u001b[39m\u001b[38;5;241m.\u001b[39m_forward_pre_hooks\n\u001b[0;32m   1499\u001b[0m         \u001b[38;5;129;01mor\u001b[39;00m _global_backward_pre_hooks \u001b[38;5;129;01mor\u001b[39;00m _global_backward_hooks\n\u001b[0;32m   1500\u001b[0m         \u001b[38;5;129;01mor\u001b[39;00m _global_forward_hooks \u001b[38;5;129;01mor\u001b[39;00m _global_forward_pre_hooks):\n\u001b[1;32m-> 1501\u001b[0m     \u001b[38;5;28;01mreturn\u001b[39;00m \u001b[43mforward_call\u001b[49m\u001b[43m(\u001b[49m\u001b[38;5;241;43m*\u001b[39;49m\u001b[43margs\u001b[49m\u001b[43m,\u001b[49m\u001b[43m \u001b[49m\u001b[38;5;241;43m*\u001b[39;49m\u001b[38;5;241;43m*\u001b[39;49m\u001b[43mkwargs\u001b[49m\u001b[43m)\u001b[49m\n\u001b[0;32m   1502\u001b[0m \u001b[38;5;66;03m# Do not call functions when jit is used\u001b[39;00m\n\u001b[0;32m   1503\u001b[0m full_backward_hooks, non_full_backward_hooks \u001b[38;5;241m=\u001b[39m [], []\n",
      "File \u001b[1;32m~/.cache\\torch\\hub\\facebookresearch_esm_main\\esm\\model\\esm2.py:112\u001b[0m, in \u001b[0;36mESM2.forward\u001b[1;34m(self, tokens, repr_layers, need_head_weights, return_contacts)\u001b[0m\n\u001b[0;32m    109\u001b[0m     padding_mask \u001b[38;5;241m=\u001b[39m \u001b[38;5;28;01mNone\u001b[39;00m\n\u001b[0;32m    111\u001b[0m \u001b[38;5;28;01mfor\u001b[39;00m layer_idx, layer \u001b[38;5;129;01min\u001b[39;00m \u001b[38;5;28menumerate\u001b[39m(\u001b[38;5;28mself\u001b[39m\u001b[38;5;241m.\u001b[39mlayers):\n\u001b[1;32m--> 112\u001b[0m     x, attn \u001b[38;5;241m=\u001b[39m \u001b[43mlayer\u001b[49m\u001b[43m(\u001b[49m\n\u001b[0;32m    113\u001b[0m \u001b[43m        \u001b[49m\u001b[43mx\u001b[49m\u001b[43m,\u001b[49m\n\u001b[0;32m    114\u001b[0m \u001b[43m        \u001b[49m\u001b[43mself_attn_padding_mask\u001b[49m\u001b[38;5;241;43m=\u001b[39;49m\u001b[43mpadding_mask\u001b[49m\u001b[43m,\u001b[49m\n\u001b[0;32m    115\u001b[0m \u001b[43m        \u001b[49m\u001b[43mneed_head_weights\u001b[49m\u001b[38;5;241;43m=\u001b[39;49m\u001b[43mneed_head_weights\u001b[49m\u001b[43m,\u001b[49m\n\u001b[0;32m    116\u001b[0m \u001b[43m    \u001b[49m\u001b[43m)\u001b[49m\n\u001b[0;32m    117\u001b[0m     \u001b[38;5;28;01mif\u001b[39;00m (layer_idx \u001b[38;5;241m+\u001b[39m \u001b[38;5;241m1\u001b[39m) \u001b[38;5;129;01min\u001b[39;00m repr_layers:\n\u001b[0;32m    118\u001b[0m         hidden_representations[layer_idx \u001b[38;5;241m+\u001b[39m \u001b[38;5;241m1\u001b[39m] \u001b[38;5;241m=\u001b[39m x\u001b[38;5;241m.\u001b[39mtranspose(\u001b[38;5;241m0\u001b[39m, \u001b[38;5;241m1\u001b[39m)\n",
      "File \u001b[1;32m~\\AppData\\Local\\Programs\\Python\\Python311\\Lib\\site-packages\\torch\\nn\\modules\\module.py:1501\u001b[0m, in \u001b[0;36mModule._call_impl\u001b[1;34m(self, *args, **kwargs)\u001b[0m\n\u001b[0;32m   1496\u001b[0m \u001b[38;5;66;03m# If we don't have any hooks, we want to skip the rest of the logic in\u001b[39;00m\n\u001b[0;32m   1497\u001b[0m \u001b[38;5;66;03m# this function, and just call forward.\u001b[39;00m\n\u001b[0;32m   1498\u001b[0m \u001b[38;5;28;01mif\u001b[39;00m \u001b[38;5;129;01mnot\u001b[39;00m (\u001b[38;5;28mself\u001b[39m\u001b[38;5;241m.\u001b[39m_backward_hooks \u001b[38;5;129;01mor\u001b[39;00m \u001b[38;5;28mself\u001b[39m\u001b[38;5;241m.\u001b[39m_backward_pre_hooks \u001b[38;5;129;01mor\u001b[39;00m \u001b[38;5;28mself\u001b[39m\u001b[38;5;241m.\u001b[39m_forward_hooks \u001b[38;5;129;01mor\u001b[39;00m \u001b[38;5;28mself\u001b[39m\u001b[38;5;241m.\u001b[39m_forward_pre_hooks\n\u001b[0;32m   1499\u001b[0m         \u001b[38;5;129;01mor\u001b[39;00m _global_backward_pre_hooks \u001b[38;5;129;01mor\u001b[39;00m _global_backward_hooks\n\u001b[0;32m   1500\u001b[0m         \u001b[38;5;129;01mor\u001b[39;00m _global_forward_hooks \u001b[38;5;129;01mor\u001b[39;00m _global_forward_pre_hooks):\n\u001b[1;32m-> 1501\u001b[0m     \u001b[38;5;28;01mreturn\u001b[39;00m \u001b[43mforward_call\u001b[49m\u001b[43m(\u001b[49m\u001b[38;5;241;43m*\u001b[39;49m\u001b[43margs\u001b[49m\u001b[43m,\u001b[49m\u001b[43m \u001b[49m\u001b[38;5;241;43m*\u001b[39;49m\u001b[38;5;241;43m*\u001b[39;49m\u001b[43mkwargs\u001b[49m\u001b[43m)\u001b[49m\n\u001b[0;32m   1502\u001b[0m \u001b[38;5;66;03m# Do not call functions when jit is used\u001b[39;00m\n\u001b[0;32m   1503\u001b[0m full_backward_hooks, non_full_backward_hooks \u001b[38;5;241m=\u001b[39m [], []\n",
      "File \u001b[1;32m~/.cache\\torch\\hub\\facebookresearch_esm_main\\esm\\modules.py:138\u001b[0m, in \u001b[0;36mTransformerLayer.forward\u001b[1;34m(self, x, self_attn_mask, self_attn_padding_mask, need_head_weights)\u001b[0m\n\u001b[0;32m    136\u001b[0m residual \u001b[38;5;241m=\u001b[39m x\n\u001b[0;32m    137\u001b[0m x \u001b[38;5;241m=\u001b[39m \u001b[38;5;28mself\u001b[39m\u001b[38;5;241m.\u001b[39mfinal_layer_norm(x)\n\u001b[1;32m--> 138\u001b[0m x \u001b[38;5;241m=\u001b[39m \u001b[43mgelu\u001b[49m\u001b[43m(\u001b[49m\u001b[38;5;28;43mself\u001b[39;49m\u001b[38;5;241;43m.\u001b[39;49m\u001b[43mfc1\u001b[49m\u001b[43m(\u001b[49m\u001b[43mx\u001b[49m\u001b[43m)\u001b[49m\u001b[43m)\u001b[49m\n\u001b[0;32m    139\u001b[0m x \u001b[38;5;241m=\u001b[39m \u001b[38;5;28mself\u001b[39m\u001b[38;5;241m.\u001b[39mfc2(x)\n\u001b[0;32m    140\u001b[0m x \u001b[38;5;241m=\u001b[39m residual \u001b[38;5;241m+\u001b[39m x\n",
      "File \u001b[1;32m~/.cache\\torch\\hub\\facebookresearch_esm_main\\esm\\modules.py:24\u001b[0m, in \u001b[0;36mgelu\u001b[1;34m(x)\u001b[0m\n\u001b[0;32m     17\u001b[0m \u001b[38;5;28;01mdef\u001b[39;00m \u001b[38;5;21mgelu\u001b[39m(x):\n\u001b[0;32m     18\u001b[0m \u001b[38;5;250m    \u001b[39m\u001b[38;5;124;03m\"\"\"Implementation of the gelu activation function.\u001b[39;00m\n\u001b[0;32m     19\u001b[0m \n\u001b[0;32m     20\u001b[0m \u001b[38;5;124;03m    For information: OpenAI GPT's gelu is slightly different\u001b[39;00m\n\u001b[0;32m     21\u001b[0m \u001b[38;5;124;03m    (and gives slightly different results):\u001b[39;00m\n\u001b[0;32m     22\u001b[0m \u001b[38;5;124;03m    0.5 * x * (1 + torch.tanh(math.sqrt(2 / math.pi) * (x + 0.044715 * torch.pow(x, 3))))\u001b[39;00m\n\u001b[0;32m     23\u001b[0m \u001b[38;5;124;03m    \"\"\"\u001b[39;00m\n\u001b[1;32m---> 24\u001b[0m     \u001b[38;5;28;01mreturn\u001b[39;00m x \u001b[38;5;241m*\u001b[39m \u001b[38;5;241m0.5\u001b[39m \u001b[38;5;241m*\u001b[39m (\u001b[38;5;241m1.0\u001b[39m \u001b[38;5;241m+\u001b[39m \u001b[43mtorch\u001b[49m\u001b[38;5;241;43m.\u001b[39;49m\u001b[43merf\u001b[49m\u001b[43m(\u001b[49m\u001b[43mx\u001b[49m\u001b[43m \u001b[49m\u001b[38;5;241;43m/\u001b[39;49m\u001b[43m \u001b[49m\u001b[43mmath\u001b[49m\u001b[38;5;241;43m.\u001b[39;49m\u001b[43msqrt\u001b[49m\u001b[43m(\u001b[49m\u001b[38;5;241;43m2.0\u001b[39;49m\u001b[43m)\u001b[49m\u001b[43m)\u001b[49m)\n",
      "\u001b[1;31mKeyboardInterrupt\u001b[0m: "
     ]
    }
   ],
   "source": [
    "cjs = {}\n",
    "#3. Calculate the categorical jacobian for each protein sequence\n",
    "def get_cj_by_index(i):\n",
    "    protein = data[i]\n",
    "    # ∂in/∂out\n",
    "    x = batch_converter([protein])[-1] \n",
    "    ln = lengths[i] \n",
    "    cj = get_categorical_jacobian(x,ln,model)\n",
    "    # add protein with its corresponding categorical jacobian to dict\n",
    "    cjs[protein[0]]=cj\n",
    "get_cj_by_index(1) # 2M7D"
   ]
  },
  {
   "cell_type": "code",
   "execution_count": null,
   "id": "2c22fc1d-f9f1-4e58-a931-5ee7619f8a62",
   "metadata": {},
   "outputs": [],
   "source": [
    "cjs = {}\n",
    "for i in range(0,len(data)): #len(data) - only take the first\n",
    "    protein = data[i]\n",
    "    # ∂in/∂out\n",
    "    x = batch_converter([protein])[-1] \n",
    "    ln = lengths[i] \n",
    "    cj = get_categorical_jacobian(x,ln,model)\n",
    "    # add protein with its corresponding categorical jacobian to dict\n",
    "    cjs[protein[0]]=cj"
   ]
  },
  {
   "cell_type": "code",
   "execution_count": null,
   "id": "b3d741e6-4147-406c-9f10-6327c8a7e798",
   "metadata": {},
   "outputs": [],
   "source": [
    "#4. from the categorical jacobian, produce contact maps for each resulting protein\n",
    "import matplotlib.pyplot as plt"
   ]
  },
  {
   "cell_type": "code",
   "execution_count": null,
   "id": "6c2a49f1-9a0f-4a4c-acd0-25eaf26d84e7",
   "metadata": {},
   "outputs": [],
   "source": [
    "#Source: https://github.com/zzhangzzhang/pLMs-interpretability/blob/main/jac/01_jac_calculate_visualise.ipynb\n",
    "# 1UNQ is at index 2\n",
    "plt.figure(figsize=(5,5))\n",
    "plt.imshow(get_contacts(cjs[\"1UNQ\"]))\n",
    "plt.show()"
   ]
  },
  {
   "cell_type": "code",
   "execution_count": null,
   "id": "6abe622b-981b-4def-8d9e-2fceea6e0709",
   "metadata": {},
   "outputs": [],
   "source": [
    "# options for generating contact maps: mdtraj, biopython, own custom function close to how the model generates it (see code for the model if its open source)"
   ]
  }
 ],
 "metadata": {
  "kernelspec": {
   "display_name": "Python 3 (ipykernel)",
   "language": "python",
   "name": "python3"
  },
  "language_info": {
   "codemirror_mode": {
    "name": "ipython",
    "version": 3
   },
   "file_extension": ".py",
   "mimetype": "text/x-python",
   "name": "python",
   "nbconvert_exporter": "python",
   "pygments_lexer": "ipython3",
   "version": "3.11.1"
  }
 },
 "nbformat": 4,
 "nbformat_minor": 5
}
